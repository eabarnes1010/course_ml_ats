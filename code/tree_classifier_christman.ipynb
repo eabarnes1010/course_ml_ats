{
 "cells": [
  {
   "cell_type": "markdown",
   "metadata": {
    "id": "9QQ0q47JvgwX"
   },
   "source": [
    "# Decision Tree Example using atmospheric data from Christman Field\n",
    "\n",
    "* Iris example adapted from: https://www.datacamp.com/community/tutorials/random-forests-classifier-python\n",
    "* Further modified by: Aaron Hill and Wei-Ting Hsiao (Dept. of Atmospheric Science, Colorado State University), January 2020\n",
    "* Further adapted by: Prof. Elizabeth Barnes for ATS 780A7 Spring 2022 at Colorado State University"
   ]
  },
  {
   "cell_type": "markdown",
   "metadata": {
    "id": "7V55BtYqA52O"
   },
   "source": [
    "Lets import some libraries we will need throughout this tutorial:\n",
    "\n"
   ]
  },
  {
   "cell_type": "code",
   "execution_count": 1,
   "metadata": {
    "colab": {
     "base_uri": "https://localhost:8080/"
    },
    "executionInfo": {
     "elapsed": 143,
     "status": "ok",
     "timestamp": 1640970573010,
     "user": {
      "displayName": "Elizabeth Barnes",
      "photoUrl": "https://lh3.googleusercontent.com/a-/AOh14GiNPVVIWP6XAkP_hwu-8rAxoeeNuk2BMkX5-yuA=s64",
      "userId": "07585723222468022011"
     },
     "user_tz": 420
    },
    "id": "YQUUpem1c3tt",
    "outputId": "e59bd3dc-e695-4115-c765-e6424cddddcd"
   },
   "outputs": [
    {
     "name": "stdout",
     "output_type": "stream",
     "text": [
      "IN_COLAB = False\n"
     ]
    }
   ],
   "source": [
    "try:\n",
    "    import google.colab\n",
    "    IN_COLAB = True\n",
    "except:\n",
    "    IN_COLAB = False\n",
    "print('IN_COLAB = ' + str(IN_COLAB))"
   ]
  },
  {
   "cell_type": "code",
   "execution_count": 2,
   "metadata": {
    "executionInfo": {
     "elapsed": 130,
     "status": "ok",
     "timestamp": 1640970573298,
     "user": {
      "displayName": "Elizabeth Barnes",
      "photoUrl": "https://lh3.googleusercontent.com/a-/AOh14GiNPVVIWP6XAkP_hwu-8rAxoeeNuk2BMkX5-yuA=s64",
      "userId": "07585723222468022011"
     },
     "user_tz": 420
    },
    "id": "TLuuXcBoA5TN"
   },
   "outputs": [],
   "source": [
    "import sys\n",
    "import numpy as np\n",
    "import matplotlib.pyplot as plt\n",
    "\n",
    "import pandas as pd\n",
    "import datetime\n",
    "import sklearn\n",
    "from sklearn.model_selection import train_test_split\n",
    "from sklearn.ensemble import RandomForestRegressor\n",
    "from sklearn.tree import DecisionTreeClassifier\n",
    "from sklearn.tree import export_graphviz\n",
    "from sklearn.inspection import permutation_importance\n",
    "import pydot\n",
    "import matplotlib.pyplot as plt\n",
    "# %matplotlib inline"
   ]
  },
  {
   "cell_type": "code",
   "execution_count": 3,
   "metadata": {
    "colab": {
     "base_uri": "https://localhost:8080/"
    },
    "executionInfo": {
     "elapsed": 6,
     "status": "ok",
     "timestamp": 1640970573299,
     "user": {
      "displayName": "Elizabeth Barnes",
      "photoUrl": "https://lh3.googleusercontent.com/a-/AOh14GiNPVVIWP6XAkP_hwu-8rAxoeeNuk2BMkX5-yuA=s64",
      "userId": "07585723222468022011"
     },
     "user_tz": 420
    },
    "id": "tO0J_hp2NGIn",
    "outputId": "a4a80a74-00f8-441f-8cfb-cd2406a047cf"
   },
   "outputs": [
    {
     "name": "stdout",
     "output_type": "stream",
     "text": [
      "python version = 3.7.11 (default, Jul 27 2021, 07:03:16) \n",
      "[Clang 10.0.0 ]\n",
      "numpy version = 1.21.5\n",
      "scikit-learn version = 1.0.2\n"
     ]
    }
   ],
   "source": [
    "print(f\"python version = {sys.version}\")\n",
    "print(f\"numpy version = {np.__version__}\")\n",
    "print(f\"scikit-learn version = {sklearn.__version__}\")  "
   ]
  },
  {
   "cell_type": "code",
   "execution_count": 4,
   "metadata": {},
   "outputs": [],
   "source": [
    "if(IN_COLAB==True):\n",
    "    # 1. Make the path of your own Google Drive accessible\n",
    "    from google.colab import drive\n",
    "    drive.mount('/content/drive', force_remount=True)\n",
    "    local_path = '/content/drive/My Drive/Colab Notebooks/'\n",
    "else:\n",
    "    local_path = 'figures/'"
   ]
  },
  {
   "cell_type": "markdown",
   "metadata": {
    "id": "pq0ubEIlhJ4Y"
   },
   "source": [
    "# 1. Data Preparation"
   ]
  },
  {
   "cell_type": "markdown",
   "metadata": {
    "id": "8TV70rZ43-A6"
   },
   "source": [
    "### 1.1 Data overview"
   ]
  },
  {
   "cell_type": "markdown",
   "metadata": {
    "id": "e_adDXBpYzKN"
   },
   "source": [
    "We have stored a .csv file on a CSU drive, accessible via URL. This will be the basis for our tutorial. This file contains Fort Collins weather data from 2018, and we will use these data to predict the high temperature for a given day with a random forest regression model.  "
   ]
  },
  {
   "cell_type": "code",
   "execution_count": 5,
   "metadata": {
    "executionInfo": {
     "elapsed": 179,
     "status": "ok",
     "timestamp": 1640970573474,
     "user": {
      "displayName": "Elizabeth Barnes",
      "photoUrl": "https://lh3.googleusercontent.com/a-/AOh14GiNPVVIWP6XAkP_hwu-8rAxoeeNuk2BMkX5-yuA=s64",
      "userId": "07585723222468022011"
     },
     "user_tz": 420
    },
    "id": "PlulN6WnZ_K8"
   },
   "outputs": [],
   "source": [
    "# Read in data from url\n",
    "url = \"http://schumacher.atmos.colostate.edu/hilla/temps_FC.csv\"\n",
    "data = pd.read_csv(url)"
   ]
  },
  {
   "cell_type": "markdown",
   "metadata": {
    "id": "OqVhzCoFB2wx"
   },
   "source": [
    "Lets look at our data to see what we are working with"
   ]
  },
  {
   "cell_type": "code",
   "execution_count": 6,
   "metadata": {
    "colab": {
     "base_uri": "https://localhost:8080/",
     "height": 223
    },
    "executionInfo": {
     "elapsed": 8,
     "status": "ok",
     "timestamp": 1640970573475,
     "user": {
      "displayName": "Elizabeth Barnes",
      "photoUrl": "https://lh3.googleusercontent.com/a-/AOh14GiNPVVIWP6XAkP_hwu-8rAxoeeNuk2BMkX5-yuA=s64",
      "userId": "07585723222468022011"
     },
     "user_tz": 420
    },
    "id": "ibJ9lUMQB8le",
    "outputId": "d228d76e-0479-4105-eccf-65376ab0c824"
   },
   "outputs": [
    {
     "name": "stdout",
     "output_type": "stream",
     "text": [
      "The shape of our features is: (365, 11)\n"
     ]
    },
    {
     "data": {
      "text/html": [
       "<div>\n",
       "<style scoped>\n",
       "    .dataframe tbody tr th:only-of-type {\n",
       "        vertical-align: middle;\n",
       "    }\n",
       "\n",
       "    .dataframe tbody tr th {\n",
       "        vertical-align: top;\n",
       "    }\n",
       "\n",
       "    .dataframe thead th {\n",
       "        text-align: right;\n",
       "    }\n",
       "</style>\n",
       "<table border=\"1\" class=\"dataframe\">\n",
       "  <thead>\n",
       "    <tr style=\"text-align: right;\">\n",
       "      <th></th>\n",
       "      <th>YEAR</th>\n",
       "      <th>MONTH</th>\n",
       "      <th>DAY</th>\n",
       "      <th>TMAX</th>\n",
       "      <th>TMIN</th>\n",
       "      <th>TMAX_1d</th>\n",
       "      <th>TMAX_2d</th>\n",
       "      <th>TMAX_BD</th>\n",
       "      <th>TMAX_SF</th>\n",
       "      <th>PRCP</th>\n",
       "      <th>TMAX_CLIM</th>\n",
       "    </tr>\n",
       "  </thead>\n",
       "  <tbody>\n",
       "    <tr>\n",
       "      <th>0</th>\n",
       "      <td>2018</td>\n",
       "      <td>1</td>\n",
       "      <td>1</td>\n",
       "      <td>26</td>\n",
       "      <td>10</td>\n",
       "      <td>31</td>\n",
       "      <td>24</td>\n",
       "      <td>30</td>\n",
       "      <td>61</td>\n",
       "      <td>0.0</td>\n",
       "      <td>43.5</td>\n",
       "    </tr>\n",
       "    <tr>\n",
       "      <th>1</th>\n",
       "      <td>2018</td>\n",
       "      <td>1</td>\n",
       "      <td>2</td>\n",
       "      <td>41</td>\n",
       "      <td>5</td>\n",
       "      <td>26</td>\n",
       "      <td>31</td>\n",
       "      <td>46</td>\n",
       "      <td>61</td>\n",
       "      <td>0.0</td>\n",
       "      <td>43.6</td>\n",
       "    </tr>\n",
       "    <tr>\n",
       "      <th>2</th>\n",
       "      <td>2018</td>\n",
       "      <td>1</td>\n",
       "      <td>3</td>\n",
       "      <td>47</td>\n",
       "      <td>12</td>\n",
       "      <td>41</td>\n",
       "      <td>26</td>\n",
       "      <td>50</td>\n",
       "      <td>58</td>\n",
       "      <td>0.0</td>\n",
       "      <td>43.7</td>\n",
       "    </tr>\n",
       "    <tr>\n",
       "      <th>3</th>\n",
       "      <td>2018</td>\n",
       "      <td>1</td>\n",
       "      <td>4</td>\n",
       "      <td>51</td>\n",
       "      <td>18</td>\n",
       "      <td>47</td>\n",
       "      <td>41</td>\n",
       "      <td>52</td>\n",
       "      <td>63</td>\n",
       "      <td>0.0</td>\n",
       "      <td>43.8</td>\n",
       "    </tr>\n",
       "    <tr>\n",
       "      <th>4</th>\n",
       "      <td>2018</td>\n",
       "      <td>1</td>\n",
       "      <td>5</td>\n",
       "      <td>50</td>\n",
       "      <td>21</td>\n",
       "      <td>51</td>\n",
       "      <td>47</td>\n",
       "      <td>62</td>\n",
       "      <td>61</td>\n",
       "      <td>0.0</td>\n",
       "      <td>43.9</td>\n",
       "    </tr>\n",
       "  </tbody>\n",
       "</table>\n",
       "</div>"
      ],
      "text/plain": [
       "   YEAR  MONTH  DAY  TMAX  TMIN  TMAX_1d  TMAX_2d  TMAX_BD  TMAX_SF  PRCP  \\\n",
       "0  2018      1    1    26    10       31       24       30       61   0.0   \n",
       "1  2018      1    2    41     5       26       31       46       61   0.0   \n",
       "2  2018      1    3    47    12       41       26       50       58   0.0   \n",
       "3  2018      1    4    51    18       47       41       52       63   0.0   \n",
       "4  2018      1    5    50    21       51       47       62       61   0.0   \n",
       "\n",
       "   TMAX_CLIM  \n",
       "0       43.5  \n",
       "1       43.6  \n",
       "2       43.7  \n",
       "3       43.8  \n",
       "4       43.9  "
      ]
     },
     "execution_count": 6,
     "metadata": {},
     "output_type": "execute_result"
    }
   ],
   "source": [
    "# Display first 5 rows\n",
    "print('The shape of our features is:', data.shape)\n",
    "data.head(5)"
   ]
  },
  {
   "cell_type": "markdown",
   "metadata": {
    "id": "PXuydX9mB-PT"
   },
   "source": [
    "You will notice we have 365 days of features and labels (complete set from 2018). Our second features axis is the columns of the pandas dataframe. These columns represent the year, month, day, maximum temperature, minimum temperature, max temp from day before, max temp from two days prior, max temperature in Boulder, max temperature in San Francisco, precipitation, and climatological maximum. \n",
    "\n",
    "The max temperature column (TMAX) is actually our label: the observed max temperature at Fort Collins."
   ]
  },
  {
   "cell_type": "markdown",
   "metadata": {
    "id": "7wwy-d38CtbZ"
   },
   "source": [
    "We can look quickly at some basic statistics of our data, such as mean, standard deviation, percentiles, etc. in a table format"
   ]
  },
  {
   "cell_type": "code",
   "execution_count": 7,
   "metadata": {
    "colab": {
     "base_uri": "https://localhost:8080/",
     "height": 300
    },
    "executionInfo": {
     "elapsed": 121,
     "status": "ok",
     "timestamp": 1640970573592,
     "user": {
      "displayName": "Elizabeth Barnes",
      "photoUrl": "https://lh3.googleusercontent.com/a-/AOh14GiNPVVIWP6XAkP_hwu-8rAxoeeNuk2BMkX5-yuA=s64",
      "userId": "07585723222468022011"
     },
     "user_tz": 420
    },
    "id": "yZSlkf1u2ZyU",
    "outputId": "a643c515-a117-4875-8d36-6673ea314767"
   },
   "outputs": [
    {
     "data": {
      "text/html": [
       "<div>\n",
       "<style scoped>\n",
       "    .dataframe tbody tr th:only-of-type {\n",
       "        vertical-align: middle;\n",
       "    }\n",
       "\n",
       "    .dataframe tbody tr th {\n",
       "        vertical-align: top;\n",
       "    }\n",
       "\n",
       "    .dataframe thead th {\n",
       "        text-align: right;\n",
       "    }\n",
       "</style>\n",
       "<table border=\"1\" class=\"dataframe\">\n",
       "  <thead>\n",
       "    <tr style=\"text-align: right;\">\n",
       "      <th></th>\n",
       "      <th>YEAR</th>\n",
       "      <th>MONTH</th>\n",
       "      <th>DAY</th>\n",
       "      <th>TMAX</th>\n",
       "      <th>TMIN</th>\n",
       "      <th>TMAX_1d</th>\n",
       "      <th>TMAX_2d</th>\n",
       "      <th>TMAX_BD</th>\n",
       "      <th>TMAX_SF</th>\n",
       "      <th>PRCP</th>\n",
       "      <th>TMAX_CLIM</th>\n",
       "    </tr>\n",
       "  </thead>\n",
       "  <tbody>\n",
       "    <tr>\n",
       "      <th>count</th>\n",
       "      <td>365.0</td>\n",
       "      <td>365.000000</td>\n",
       "      <td>365.000000</td>\n",
       "      <td>365.000000</td>\n",
       "      <td>365.000000</td>\n",
       "      <td>365.000000</td>\n",
       "      <td>365.000000</td>\n",
       "      <td>365.000000</td>\n",
       "      <td>365.000000</td>\n",
       "      <td>365.000000</td>\n",
       "      <td>365.000000</td>\n",
       "    </tr>\n",
       "    <tr>\n",
       "      <th>mean</th>\n",
       "      <td>2018.0</td>\n",
       "      <td>6.526027</td>\n",
       "      <td>15.720548</td>\n",
       "      <td>65.652055</td>\n",
       "      <td>37.389041</td>\n",
       "      <td>65.627397</td>\n",
       "      <td>65.564384</td>\n",
       "      <td>66.876712</td>\n",
       "      <td>63.904110</td>\n",
       "      <td>0.037260</td>\n",
       "      <td>63.738356</td>\n",
       "    </tr>\n",
       "    <tr>\n",
       "      <th>std</th>\n",
       "      <td>0.0</td>\n",
       "      <td>3.452584</td>\n",
       "      <td>8.808321</td>\n",
       "      <td>18.372280</td>\n",
       "      <td>16.232409</td>\n",
       "      <td>18.412798</td>\n",
       "      <td>18.515789</td>\n",
       "      <td>17.882819</td>\n",
       "      <td>6.004038</td>\n",
       "      <td>0.147239</td>\n",
       "      <td>15.407528</td>\n",
       "    </tr>\n",
       "    <tr>\n",
       "      <th>min</th>\n",
       "      <td>2018.0</td>\n",
       "      <td>1.000000</td>\n",
       "      <td>1.000000</td>\n",
       "      <td>15.000000</td>\n",
       "      <td>-3.000000</td>\n",
       "      <td>15.000000</td>\n",
       "      <td>15.000000</td>\n",
       "      <td>15.000000</td>\n",
       "      <td>51.000000</td>\n",
       "      <td>0.000000</td>\n",
       "      <td>42.100000</td>\n",
       "    </tr>\n",
       "    <tr>\n",
       "      <th>25%</th>\n",
       "      <td>2018.0</td>\n",
       "      <td>4.000000</td>\n",
       "      <td>8.000000</td>\n",
       "      <td>50.000000</td>\n",
       "      <td>24.000000</td>\n",
       "      <td>50.000000</td>\n",
       "      <td>50.000000</td>\n",
       "      <td>52.000000</td>\n",
       "      <td>60.000000</td>\n",
       "      <td>0.000000</td>\n",
       "      <td>48.100000</td>\n",
       "    </tr>\n",
       "    <tr>\n",
       "      <th>50%</th>\n",
       "      <td>2018.0</td>\n",
       "      <td>7.000000</td>\n",
       "      <td>16.000000</td>\n",
       "      <td>65.000000</td>\n",
       "      <td>37.000000</td>\n",
       "      <td>65.000000</td>\n",
       "      <td>65.000000</td>\n",
       "      <td>66.000000</td>\n",
       "      <td>63.000000</td>\n",
       "      <td>0.000000</td>\n",
       "      <td>63.000000</td>\n",
       "    </tr>\n",
       "    <tr>\n",
       "      <th>75%</th>\n",
       "      <td>2018.0</td>\n",
       "      <td>10.000000</td>\n",
       "      <td>23.000000</td>\n",
       "      <td>82.000000</td>\n",
       "      <td>52.000000</td>\n",
       "      <td>82.000000</td>\n",
       "      <td>82.000000</td>\n",
       "      <td>83.000000</td>\n",
       "      <td>67.000000</td>\n",
       "      <td>0.000000</td>\n",
       "      <td>78.500000</td>\n",
       "    </tr>\n",
       "    <tr>\n",
       "      <th>max</th>\n",
       "      <td>2018.0</td>\n",
       "      <td>12.000000</td>\n",
       "      <td>31.000000</td>\n",
       "      <td>101.000000</td>\n",
       "      <td>68.000000</td>\n",
       "      <td>101.000000</td>\n",
       "      <td>101.000000</td>\n",
       "      <td>98.000000</td>\n",
       "      <td>83.000000</td>\n",
       "      <td>1.740000</td>\n",
       "      <td>87.100000</td>\n",
       "    </tr>\n",
       "  </tbody>\n",
       "</table>\n",
       "</div>"
      ],
      "text/plain": [
       "         YEAR       MONTH         DAY        TMAX        TMIN     TMAX_1d  \\\n",
       "count   365.0  365.000000  365.000000  365.000000  365.000000  365.000000   \n",
       "mean   2018.0    6.526027   15.720548   65.652055   37.389041   65.627397   \n",
       "std       0.0    3.452584    8.808321   18.372280   16.232409   18.412798   \n",
       "min    2018.0    1.000000    1.000000   15.000000   -3.000000   15.000000   \n",
       "25%    2018.0    4.000000    8.000000   50.000000   24.000000   50.000000   \n",
       "50%    2018.0    7.000000   16.000000   65.000000   37.000000   65.000000   \n",
       "75%    2018.0   10.000000   23.000000   82.000000   52.000000   82.000000   \n",
       "max    2018.0   12.000000   31.000000  101.000000   68.000000  101.000000   \n",
       "\n",
       "          TMAX_2d     TMAX_BD     TMAX_SF        PRCP   TMAX_CLIM  \n",
       "count  365.000000  365.000000  365.000000  365.000000  365.000000  \n",
       "mean    65.564384   66.876712   63.904110    0.037260   63.738356  \n",
       "std     18.515789   17.882819    6.004038    0.147239   15.407528  \n",
       "min     15.000000   15.000000   51.000000    0.000000   42.100000  \n",
       "25%     50.000000   52.000000   60.000000    0.000000   48.100000  \n",
       "50%     65.000000   66.000000   63.000000    0.000000   63.000000  \n",
       "75%     82.000000   83.000000   67.000000    0.000000   78.500000  \n",
       "max    101.000000   98.000000   83.000000    1.740000   87.100000  "
      ]
     },
     "execution_count": 7,
     "metadata": {},
     "output_type": "execute_result"
    }
   ],
   "source": [
    "# A handy tool in pandas: descriptive statistics for each column\n",
    "data.describe()"
   ]
  },
  {
   "cell_type": "markdown",
   "metadata": {
    "id": "SfiUkqp6C-co"
   },
   "source": [
    "We have made it so that there is not much to clean up in this dataset...however you may run into a scenario where days are missing, values are missing, etc. wherein you need to remove bad features, labels, or examples (i.e., days of observations). It is often said that 80% of machine learning is the preprocessing of your data. \n"
   ]
  },
  {
   "cell_type": "markdown",
   "metadata": {
    "id": "6vLWjiNs4OB7"
   },
   "source": [
    "### 1.2 Targets and features"
   ]
  },
  {
   "cell_type": "markdown",
   "metadata": {
    "id": "WsaFBLnKDPbK"
   },
   "source": [
    "The pandas table is handy for a quick glance, but we need to organize some numpy arrays that separately contain our features and labels."
   ]
  },
  {
   "cell_type": "code",
   "execution_count": 8,
   "metadata": {
    "executionInfo": {
     "elapsed": 140,
     "status": "ok",
     "timestamp": 1640970573728,
     "user": {
      "displayName": "Elizabeth Barnes",
      "photoUrl": "https://lh3.googleusercontent.com/a-/AOh14GiNPVVIWP6XAkP_hwu-8rAxoeeNuk2BMkX5-yuA=s64",
      "userId": "07585723222468022011"
     },
     "user_tz": 420
    },
    "id": "dlt6GqYwhgnV"
   },
   "outputs": [],
   "source": [
    "THRESHOLD_TEMP = 65   # default = 65\n",
    "\n",
    "# Labels are the values we want to predict\n",
    "labels = (np.array(data['TMAX']) > THRESHOLD_TEMP)\n",
    "\n",
    "# Remove the labels from the features\n",
    "# axis 1 refers to the columns\n",
    "features = data.drop('TMAX', axis = 1)\n",
    "\n",
    "# Also remove TMAX_BD for later use, you will understand later\n",
    "features = features.drop('TMAX_BD', axis = 1)\n",
    "\n",
    "# Saving feature names for later use\n",
    "feature_list = list(features.columns)\n",
    "\n",
    "# Convert to numpy array\n",
    "features = np.array(features)"
   ]
  },
  {
   "cell_type": "markdown",
   "metadata": {
    "id": "8pRuZk-AhjAP"
   },
   "source": [
    "### 1.3 Splitting training and testing datasets"
   ]
  },
  {
   "cell_type": "markdown",
   "metadata": {
    "id": "95YMbR1YDcqT"
   },
   "source": [
    "Assuming we have no feature data available from 2019 we could use to test our trained models against, we will want to split up our dataset into training and testing portions. A standard proportion is 3/4 for training, 1/4 for testing, although this is somewhat arbitrary here. "
   ]
  },
  {
   "cell_type": "code",
   "execution_count": 9,
   "metadata": {
    "executionInfo": {
     "elapsed": 10,
     "status": "ok",
     "timestamp": 1640970573729,
     "user": {
      "displayName": "Elizabeth Barnes",
      "photoUrl": "https://lh3.googleusercontent.com/a-/AOh14GiNPVVIWP6XAkP_hwu-8rAxoeeNuk2BMkX5-yuA=s64",
      "userId": "07585723222468022011"
     },
     "user_tz": 420
    },
    "id": "ggg3rkEphk2N"
   },
   "outputs": [],
   "source": [
    "# Split the data into training and testing sets\n",
    "\n",
    "# Tunable Parameter: Describes the proportion of the dataset we want to use for testing. 1 - split_size is used for training. \n",
    "split_size = 0.25\n",
    "\n",
    "# PARAMETERS:\n",
    "#     test_size: fraction of testing/validation datasets\n",
    "#     random_state: random parameter\n",
    "train_features, test_features, train_labels, test_labels = train_test_split(features, labels, test_size = split_size, random_state = 42)"
   ]
  },
  {
   "cell_type": "markdown",
   "metadata": {
    "id": "SfMNcTlSD7sn"
   },
   "source": [
    "Lets quickly check the size of our training and testing arrays are what we expect (and we didn't do something wrong)"
   ]
  },
  {
   "cell_type": "code",
   "execution_count": 10,
   "metadata": {
    "colab": {
     "base_uri": "https://localhost:8080/"
    },
    "executionInfo": {
     "elapsed": 9,
     "status": "ok",
     "timestamp": 1640970573729,
     "user": {
      "displayName": "Elizabeth Barnes",
      "photoUrl": "https://lh3.googleusercontent.com/a-/AOh14GiNPVVIWP6XAkP_hwu-8rAxoeeNuk2BMkX5-yuA=s64",
      "userId": "07585723222468022011"
     },
     "user_tz": 420
    },
    "id": "ZHsogVIIhm5X",
    "outputId": "a216cc81-0505-41b3-8e72-a39dd7fffb29"
   },
   "outputs": [
    {
     "name": "stdout",
     "output_type": "stream",
     "text": [
      "Training Features Shape: (273, 9)\n",
      "Training Labels Shape: (273,)\n",
      "Testing Features Shape: (92, 9)\n",
      "Testing Labels Shape: (92,)\n"
     ]
    }
   ],
   "source": [
    "print('Training Features Shape:', train_features.shape)\n",
    "print('Training Labels Shape:', train_labels.shape)\n",
    "print('Testing Features Shape:', test_features.shape)\n",
    "print('Testing Labels Shape:', test_labels.shape)"
   ]
  },
  {
   "cell_type": "markdown",
   "metadata": {
    "id": "PmnUiJhK4pQm"
   },
   "source": [
    "# 2. Creating a decision tree"
   ]
  },
  {
   "cell_type": "markdown",
   "metadata": {},
   "source": [
    "### Train the model and visualize it"
   ]
  },
  {
   "cell_type": "code",
   "execution_count": 11,
   "metadata": {
    "colab": {
     "base_uri": "https://localhost:8080/"
    },
    "executionInfo": {
     "elapsed": 133,
     "status": "ok",
     "timestamp": 1640970573858,
     "user": {
      "displayName": "Elizabeth Barnes",
      "photoUrl": "https://lh3.googleusercontent.com/a-/AOh14GiNPVVIWP6XAkP_hwu-8rAxoeeNuk2BMkX5-yuA=s64",
      "userId": "07585723222468022011"
     },
     "user_tz": 420
    },
    "id": "iJx8TDwJhvqm",
    "outputId": "8c592afd-5119-4cd4-a516-48bb2c3e7dcd"
   },
   "outputs": [
    {
     "data": {
      "text/plain": [
       "DecisionTreeClassifier(max_depth=2, random_state=42)"
      ]
     },
     "execution_count": 11,
     "metadata": {},
     "output_type": "execute_result"
    }
   ],
   "source": [
    "# Tunable Parameters for Model\n",
    "tree_depth = 2 \n",
    "node_split = 2       # minimum number of training samples needed to split a node\n",
    "leaf_samples = 1     # minimum number of training samples required to make a leaf node\n",
    "RAND_STATE = 42\n",
    "\n",
    "tree_clf = DecisionTreeClassifier(max_depth=tree_depth, \n",
    "                                  min_samples_split=node_split,\n",
    "                                  min_samples_leaf=leaf_samples,\n",
    "                                  random_state=RAND_STATE,\n",
    "                                  criterion='gini',  #can also set to 'entropy'\n",
    "                                 )\n",
    "tree_clf.fit(train_features,train_labels)"
   ]
  },
  {
   "cell_type": "code",
   "execution_count": 12,
   "metadata": {},
   "outputs": [],
   "source": [
    "fig_savename = 'tree_classifier_christman'\n",
    "tree = tree_clf\n",
    "\n",
    "export_graphviz(tree,\n",
    "                out_file=local_path + fig_savename+'.dot',\n",
    "                filled=True,\n",
    "                proportion=False,\n",
    "                leaves_parallel=False,\n",
    "                class_names=('below ' + str(THRESHOLD_TEMP),'above ' + str(THRESHOLD_TEMP)),\n",
    "                feature_names=feature_list)\n",
    "\n",
    "# Use dot file to create a graph to write to a png\n",
    "(graph, ) = pydot.graph_from_dot_file(local_path + fig_savename + '.dot')\n",
    "graph.write_png(local_path + fig_savename + '.png')"
   ]
  },
  {
   "cell_type": "markdown",
   "metadata": {
    "id": "S0_gSkHrhySe"
   },
   "source": [
    "### Make predictions"
   ]
  },
  {
   "cell_type": "code",
   "execution_count": 13,
   "metadata": {
    "colab": {
     "base_uri": "https://localhost:8080/"
    },
    "executionInfo": {
     "elapsed": 5,
     "status": "ok",
     "timestamp": 1640970573859,
     "user": {
      "displayName": "Elizabeth Barnes",
      "photoUrl": "https://lh3.googleusercontent.com/a-/AOh14GiNPVVIWP6XAkP_hwu-8rAxoeeNuk2BMkX5-yuA=s64",
      "userId": "07585723222468022011"
     },
     "user_tz": 420
    },
    "id": "nj7-Y8xShz3C",
    "outputId": "ed63c352-7d5f-4fcb-944b-59ddae70e891"
   },
   "outputs": [
    {
     "data": {
      "text/plain": [
       "array([ True, False, False, False, False,  True, False, False,  True,\n",
       "        True, False, False, False, False,  True, False, False,  True,\n",
       "       False, False, False,  True, False,  True,  True,  True,  True,\n",
       "       False, False, False, False, False, False, False,  True, False,\n",
       "       False, False, False, False,  True, False, False, False, False,\n",
       "        True, False, False, False, False,  True, False, False,  True,\n",
       "        True, False, False, False, False, False,  True, False, False,\n",
       "       False,  True, False,  True,  True,  True, False, False,  True,\n",
       "       False,  True, False,  True, False, False, False, False, False,\n",
       "        True, False, False, False, False, False,  True, False, False,\n",
       "       False, False])"
      ]
     },
     "execution_count": 13,
     "metadata": {},
     "output_type": "execute_result"
    }
   ],
   "source": [
    "y_pred_train = tree_clf.predict(train_features)\n",
    "y_pred_test = tree_clf.predict(test_features)\n",
    "y_pred_test"
   ]
  },
  {
   "cell_type": "code",
   "execution_count": 14,
   "metadata": {},
   "outputs": [
    {
     "data": {
      "text/plain": [
       "array([[0.        , 1.        ],\n",
       "       [0.95726496, 0.04273504],\n",
       "       [0.95726496, 0.04273504],\n",
       "       [0.95726496, 0.04273504],\n",
       "       [0.95726496, 0.04273504]])"
      ]
     },
     "execution_count": 14,
     "metadata": {},
     "output_type": "execute_result"
    }
   ],
   "source": [
    "tree_clf.predict_proba(test_features)[:5]"
   ]
  },
  {
   "cell_type": "markdown",
   "metadata": {
    "id": "zEEvFIRYiRG7"
   },
   "source": [
    "### Visualization of predictions"
   ]
  },
  {
   "cell_type": "code",
   "execution_count": 15,
   "metadata": {
    "executionInfo": {
     "elapsed": 4,
     "status": "ok",
     "timestamp": 1640970577099,
     "user": {
      "displayName": "Elizabeth Barnes",
      "photoUrl": "https://lh3.googleusercontent.com/a-/AOh14GiNPVVIWP6XAkP_hwu-8rAxoeeNuk2BMkX5-yuA=s64",
      "userId": "07585723222468022011"
     },
     "user_tz": 420
    },
    "id": "iNT-5sowmb68"
   },
   "outputs": [],
   "source": [
    "def plot_time_series(features, feature_list, labels, test_features, predictions):\n",
    "    \n",
    "    # Use datetime for creating date objects for plotting\n",
    "    # Dates of training values\n",
    "    months = features[:, feature_list.index('MONTH')]\n",
    "    days = features[:, feature_list.index('DAY')]\n",
    "    years = features[:, feature_list.index('YEAR')]\n",
    "    # List and then convert to datetime object\n",
    "    dates = [str(int(year)) + '-' + str(int(month)) + '-' + str(int(day)) for year, month, day in zip(years, months, days)]\n",
    "    dates = [datetime.datetime.strptime(date, '%Y-%m-%d') for date in dates]\n",
    "    \n",
    "    # Dataframe with true values and dates\n",
    "    true_data = pd.DataFrame(data = {'date': dates, 'TMAX': labels})\n",
    "    \n",
    "    # Dates of predictions\n",
    "    months = test_features[:, feature_list.index('MONTH')]\n",
    "    days = test_features[:, feature_list.index('DAY')]\n",
    "    years = test_features[:, feature_list.index('YEAR')]\n",
    "    \n",
    "    # Column of dates\n",
    "    test_dates = [str(int(year)) + '-' + str(int(month)) + '-' + str(int(day)) for year, month, day in zip(years, months, days)]\n",
    "    \n",
    "    # Convert to datetime objects\n",
    "    test_dates = [datetime.datetime.strptime(date, '%Y-%m-%d') for date in test_dates]\n",
    "    \n",
    "    # Dataframe with predictions and dates\n",
    "    predictions_data = pd.DataFrame(data = {'date': test_dates, 'prediction': predictions})\n",
    "    \n",
    "    # Plot the actual values\n",
    "    plt.plot(true_data['date'], true_data['TMAX'], 'b-', label = 'TMAX')\n",
    "    \n",
    "    # Plot the predicted values\n",
    "    plt.plot(predictions_data['date'], predictions_data['prediction'], 'ro', label = 'prediction')\n",
    "    plt.xticks(rotation = '60'); \n",
    "    plt.legend()\n",
    "    \n",
    "    # Graph labels\n",
    "    plt.xlabel('Date'); plt.ylabel('Maximum Temperature (F)'); plt.title('Actual and Classified Values')\n",
    "    plt.axhline(y=THRESHOLD_TEMP,linestyle='--')\n",
    "    plt.show()"
   ]
  },
  {
   "cell_type": "code",
   "execution_count": 16,
   "metadata": {
    "colab": {
     "base_uri": "https://localhost:8080/",
     "height": 368
    },
    "executionInfo": {
     "elapsed": 575,
     "status": "ok",
     "timestamp": 1640970577671,
     "user": {
      "displayName": "Elizabeth Barnes",
      "photoUrl": "https://lh3.googleusercontent.com/a-/AOh14GiNPVVIWP6XAkP_hwu-8rAxoeeNuk2BMkX5-yuA=s64",
      "userId": "07585723222468022011"
     },
     "user_tz": 420
    },
    "id": "CchwPipRiVxv",
    "outputId": "abba95f2-8b3e-40a6-fecb-c1bae0e5d6be"
   },
   "outputs": [
    {
     "data": {
      "image/png": "[encoded data removed]",
      "text/plain": [
       "<Figure size 432x288 with 1 Axes>"
      ]
     },
     "metadata": {
      "needs_background": "light"
     },
     "output_type": "display_data"
    },
    {
     "data": {
      "image/png": "[encoded data removed]",
      "text/plain": [
       "<Figure size 432x288 with 1 Axes>"
      ]
     },
     "metadata": {
      "needs_background": "light"
     },
     "output_type": "display_data"
    }
   ],
   "source": [
    "plot_time_series(features, feature_list, np.array(data['TMAX']), train_features, y_pred_train*100)\n",
    "plot_time_series(features, feature_list, np.array(data['TMAX']), test_features, y_pred_test*100)"
   ]
  },
  {
   "cell_type": "markdown",
   "metadata": {},
   "source": [
    "### Evaluate the classification predictions"
   ]
  },
  {
   "cell_type": "code",
   "execution_count": 17,
   "metadata": {},
   "outputs": [],
   "source": [
    "from sklearn.metrics import roc_auc_score\n",
    "from sklearn.metrics import roc_curve"
   ]
  },
  {
   "cell_type": "code",
   "execution_count": 18,
   "metadata": {},
   "outputs": [],
   "source": [
    "y_probs = tree_clf.predict_proba(test_features)\n",
    "y_scores = y_probs[:,1]\n",
    "fpr_tree, tpr_tree, thresholds_tree = roc_curve(test_labels,y_scores)\n",
    "auc_tree = roc_auc_score(test_labels,y_scores)"
   ]
  },
  {
   "cell_type": "code",
   "execution_count": 19,
   "metadata": {},
   "outputs": [
    {
     "data": {
      "image/png": "[encoded data removed]",
      "text/plain": [
       "<Figure size 576x432 with 1 Axes>"
      ]
     },
     "metadata": {
      "needs_background": "light"
     },
     "output_type": "display_data"
    }
   ],
   "source": [
    "def plot_roc_curve(fpr, tpr, label=None):\n",
    "    plt.plot(fpr, tpr, linewidth=2, label=label)\n",
    "    plt.plot([0, 1], [0, 1], 'k--') # dashed diagonal\n",
    "    plt.axis([0, 1.01, 0, 1.01])                                    # Not shown in the book\n",
    "    plt.xlabel('False Positive Rate (Fall-Out)', fontsize=16) # Not shown\n",
    "    plt.ylabel('True Positive Rate (Recall)', fontsize=16)    # Not shown\n",
    "    plt.grid(True)                                            # Not shown\n",
    "    \n",
    "plt.figure(figsize=(8, 6))\n",
    "plot_roc_curve(fpr_tree, tpr_tree, \"Decision Tree\")\n",
    "plt.title('AUC = ' + str(auc_tree))\n",
    "plt.grid(True)\n",
    "plt.legend(loc=\"lower right\", fontsize=16)\n",
    "plt.show()"
   ]
  },
  {
   "cell_type": "code",
   "execution_count": 20,
   "metadata": {},
   "outputs": [
    {
     "name": "stdout",
     "output_type": "stream",
     "text": [
      "training confusion matrix\n",
      "[[127   7]\n",
      " [ 18 121]]\n"
     ]
    },
    {
     "data": {
      "text/plain": [
       "Text(0.5, 1.0, 'Training Data')"
      ]
     },
     "execution_count": 20,
     "metadata": {},
     "output_type": "execute_result"
    },
    {
     "data": {
      "image/png": "[encoded data removed]",
      "text/plain": [
       "<Figure size 432x288 with 2 Axes>"
      ]
     },
     "metadata": {
      "needs_background": "light"
     },
     "output_type": "display_data"
    }
   ],
   "source": [
    "from sklearn.metrics import confusion_matrix\n",
    "from sklearn.metrics import ConfusionMatrixDisplay\n",
    "\n",
    "y_pred_train = tree_clf.predict(train_features)\n",
    "print('training confusion matrix')\n",
    "print(confusion_matrix(train_labels, y_pred_train))\n",
    "ConfusionMatrixDisplay.from_predictions(train_labels, y_pred_train)\n",
    "plt.title('Training Data')"
   ]
  },
  {
   "cell_type": "code",
   "execution_count": 21,
   "metadata": {},
   "outputs": [
    {
     "name": "stdout",
     "output_type": "stream",
     "text": [
      "testing confusion matrix\n",
      "[[52  0]\n",
      " [13 27]]\n"
     ]
    },
    {
     "data": {
      "text/plain": [
       "Text(0.5, 1.0, 'Testing Data')"
      ]
     },
     "execution_count": 21,
     "metadata": {},
     "output_type": "execute_result"
    },
    {
     "data": {
      "image/png": "[encoded data removed]",
      "text/plain": [
       "<Figure size 432x288 with 2 Axes>"
      ]
     },
     "metadata": {
      "needs_background": "light"
     },
     "output_type": "display_data"
    }
   ],
   "source": [
    "y_pred_test = tree_clf.predict(test_features)\n",
    "print('testing confusion matrix')\n",
    "print(confusion_matrix(test_labels, y_pred_test))\n",
    "\n",
    "ConfusionMatrixDisplay.from_predictions(test_labels, y_pred_test)\n",
    "plt.title('Testing Data')"
   ]
  },
  {
   "cell_type": "code",
   "execution_count": 22,
   "metadata": {},
   "outputs": [
    {
     "name": "stdout",
     "output_type": "stream",
     "text": [
      "0.9453125\n",
      "1.0\n"
     ]
    }
   ],
   "source": [
    "from sklearn.metrics import precision_score, recall_score\n",
    "\n",
    "print(precision_score(train_labels, y_pred_train))\n",
    "print(precision_score(test_labels, y_pred_test))"
   ]
  },
  {
   "cell_type": "code",
   "execution_count": 23,
   "metadata": {},
   "outputs": [
    {
     "name": "stdout",
     "output_type": "stream",
     "text": [
      "0.8705035971223022\n",
      "0.675\n"
     ]
    }
   ],
   "source": [
    "print(recall_score(train_labels, y_pred_train))\n",
    "print(recall_score(test_labels, y_pred_test))"
   ]
  },
  {
   "cell_type": "code",
   "execution_count": 24,
   "metadata": {},
   "outputs": [
    {
     "name": "stdout",
     "output_type": "stream",
     "text": [
      "0.906367041198502\n",
      "0.8059701492537313\n"
     ]
    }
   ],
   "source": [
    "from sklearn.metrics import f1_score\n",
    "\n",
    "print(f1_score(train_labels, y_pred_train))\n",
    "print(f1_score(test_labels, y_pred_test))"
   ]
  }
 ],
 "metadata": {
  "colab": {
   "collapsed_sections": [],
   "name": "random_forest_example.ipynb",
   "provenance": []
  },
  "kernelspec": {
   "display_name": "Python 3 (ipykernel)",
   "language": "python",
   "name": "python3"
  },
  "language_info": {
   "codemirror_mode": {
    "name": "ipython",
    "version": 3
   },
   "file_extension": ".py",
   "mimetype": "text/x-python",
   "name": "python",
   "nbconvert_exporter": "python",
   "pygments_lexer": "ipython3",
   "version": "3.7.11"
  }
 },
 "nbformat": 4,
 "nbformat_minor": 4
}
