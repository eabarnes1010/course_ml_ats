{
 "cells": [
  {
   "cell_type": "markdown",
   "id": "integral-drilling",
   "metadata": {
    "id": "integral-drilling"
   },
   "source": [
    "# Random Forest Classifier - Iris Dataset\n",
    "\n",
    "Used and further adapted by: Elizabeth Barnes in ATS 655 at Colorado State University\n",
    "\n",
    "Original created by: Aaron Hill and Wei-Ting Hsiao (Dept. of Atmospheric Science, Colorado State University), January 2020\n",
    "\n",
    "Iris example adapted from: https://www.datacamp.com/community/tutorials/random-forests-classifier-python"
   ]
  },
  {
   "cell_type": "code",
   "execution_count": 1,
   "id": "bottom-newspaper",
   "metadata": {
    "id": "bottom-newspaper",
    "outputId": "937dea52-926f-4ad3-e701-8ef727bfd44d"
   },
   "outputs": [
    {
     "ename": "ModuleNotFoundError",
     "evalue": "No module named 'pydot'",
     "output_type": "error",
     "traceback": [
      "\u001b[0;31m---------------------------------------------------------------------------\u001b[0m",
      "\u001b[0;31mModuleNotFoundError\u001b[0m                       Traceback (most recent call last)",
      "\u001b[0;32m/var/folders/ds/32cnt1m12110f2x86qdfzszh0001zl/T/ipykernel_39305/3829492286.py\u001b[0m in \u001b[0;36m<module>\u001b[0;34m\u001b[0m\n\u001b[1;32m      9\u001b[0m \u001b[0;34m\u001b[0m\u001b[0m\n\u001b[1;32m     10\u001b[0m \u001b[0;32mfrom\u001b[0m \u001b[0msklearn\u001b[0m\u001b[0;34m.\u001b[0m\u001b[0mtree\u001b[0m \u001b[0;32mimport\u001b[0m \u001b[0mexport_graphviz\u001b[0m\u001b[0;34m\u001b[0m\u001b[0;34m\u001b[0m\u001b[0m\n\u001b[0;32m---> 11\u001b[0;31m \u001b[0;32mimport\u001b[0m \u001b[0mpydot\u001b[0m\u001b[0;34m\u001b[0m\u001b[0;34m\u001b[0m\u001b[0m\n\u001b[0m\u001b[1;32m     12\u001b[0m \u001b[0;32mimport\u001b[0m \u001b[0mmatplotlib\u001b[0m\u001b[0;34m.\u001b[0m\u001b[0mpyplot\u001b[0m \u001b[0;32mas\u001b[0m \u001b[0mplt\u001b[0m\u001b[0;34m\u001b[0m\u001b[0;34m\u001b[0m\u001b[0m\n\u001b[1;32m     13\u001b[0m \u001b[0;34m\u001b[0m\u001b[0m\n",
      "\u001b[0;31mModuleNotFoundError\u001b[0m: No module named 'pydot'"
     ]
    }
   ],
   "source": [
    "import numpy as np\n",
    "import pandas as pd\n",
    "\n",
    "from sklearn import datasets\n",
    "from sklearn.model_selection import train_test_split\n",
    "from sklearn.ensemble import RandomForestClassifier\n",
    "from sklearn import metrics\n",
    "from sklearn.inspection import permutation_importance\n",
    "\n",
    "from sklearn.tree import export_graphviz\n",
    "import pydot\n",
    "import matplotlib.pyplot as plt\n",
    "\n",
    "# specify whether running on Colab or locally\n",
    "try:\n",
    "    import google.colab\n",
    "    IN_COLAB = True\n",
    "except:\n",
    "    IN_COLAB = False\n",
    "print('IN_COLAB = ' + str(IN_COLAB))"
   ]
  },
  {
   "cell_type": "code",
   "execution_count": null,
   "id": "detailed-ending",
   "metadata": {
    "id": "detailed-ending",
    "outputId": "a807faca-9103-465c-ba6f-6fb21c59df85"
   },
   "outputs": [
    {
     "name": "stdout",
     "output_type": "stream",
     "text": [
      "target/labels: ['setosa' 'versicolor' 'virginica']\n",
      "     features: ['sepal length (cm)', 'sepal width (cm)', 'petal length (cm)', 'petal width (cm)']\n"
     ]
    }
   ],
   "source": [
    "#Load dataset\n",
    "iris = datasets.load_iris()\n",
    "\n",
    "print('target/labels: ' + str(iris.target_names))\n",
    "print('     features: ' + str(iris.feature_names))"
   ]
  },
  {
   "cell_type": "code",
   "execution_count": null,
   "id": "focal-preparation",
   "metadata": {
    "id": "focal-preparation",
    "outputId": "a84ca7ec-b8e6-451d-e811-4fefab104a4d"
   },
   "outputs": [
    {
     "data": {
      "text/html": [
       "<div>\n",
       "<style scoped>\n",
       "    .dataframe tbody tr th:only-of-type {\n",
       "        vertical-align: middle;\n",
       "    }\n",
       "\n",
       "    .dataframe tbody tr th {\n",
       "        vertical-align: top;\n",
       "    }\n",
       "\n",
       "    .dataframe thead th {\n",
       "        text-align: right;\n",
       "    }\n",
       "</style>\n",
       "<table border=\"1\" class=\"dataframe\">\n",
       "  <thead>\n",
       "    <tr style=\"text-align: right;\">\n",
       "      <th></th>\n",
       "      <th>sepal length</th>\n",
       "      <th>sepal width</th>\n",
       "      <th>petal length</th>\n",
       "      <th>petal width</th>\n",
       "      <th>species</th>\n",
       "    </tr>\n",
       "  </thead>\n",
       "  <tbody>\n",
       "    <tr>\n",
       "      <th>0</th>\n",
       "      <td>5.1</td>\n",
       "      <td>3.5</td>\n",
       "      <td>1.4</td>\n",
       "      <td>0.2</td>\n",
       "      <td>0</td>\n",
       "    </tr>\n",
       "    <tr>\n",
       "      <th>1</th>\n",
       "      <td>4.9</td>\n",
       "      <td>3.0</td>\n",
       "      <td>1.4</td>\n",
       "      <td>0.2</td>\n",
       "      <td>0</td>\n",
       "    </tr>\n",
       "    <tr>\n",
       "      <th>2</th>\n",
       "      <td>4.7</td>\n",
       "      <td>3.2</td>\n",
       "      <td>1.3</td>\n",
       "      <td>0.2</td>\n",
       "      <td>0</td>\n",
       "    </tr>\n",
       "    <tr>\n",
       "      <th>3</th>\n",
       "      <td>4.6</td>\n",
       "      <td>3.1</td>\n",
       "      <td>1.5</td>\n",
       "      <td>0.2</td>\n",
       "      <td>0</td>\n",
       "    </tr>\n",
       "    <tr>\n",
       "      <th>4</th>\n",
       "      <td>5.0</td>\n",
       "      <td>3.6</td>\n",
       "      <td>1.4</td>\n",
       "      <td>0.2</td>\n",
       "      <td>0</td>\n",
       "    </tr>\n",
       "  </tbody>\n",
       "</table>\n",
       "</div>"
      ],
      "text/plain": [
       "   sepal length  sepal width  petal length  petal width  species\n",
       "0           5.1          3.5           1.4          0.2        0\n",
       "1           4.9          3.0           1.4          0.2        0\n",
       "2           4.7          3.2           1.3          0.2        0\n",
       "3           4.6          3.1           1.5          0.2        0\n",
       "4           5.0          3.6           1.4          0.2        0"
      ]
     },
     "execution_count": 3,
     "metadata": {
      "tags": []
     },
     "output_type": "execute_result"
    }
   ],
   "source": [
    "# create DataFrame so it looks nice for visualizing the data\n",
    "\n",
    "data=pd.DataFrame({\n",
    "    'sepal length':iris.data[:,0],\n",
    "    'sepal width':iris.data[:,1],\n",
    "    'petal length':iris.data[:,2],\n",
    "    'petal width':iris.data[:,3],\n",
    "    'species':iris.target\n",
    "})\n",
    "data.head()"
   ]
  },
  {
   "cell_type": "code",
   "execution_count": null,
   "id": "broadband-block",
   "metadata": {
    "id": "broadband-block"
   },
   "outputs": [],
   "source": [
    "# Split data into training and testing\n",
    "\n",
    "X=data[['sepal length', 'sepal width', 'petal length', 'petal width']]  # Features\n",
    "y=data['species']  # Labels\n",
    "\n",
    "# Split dataset into training set and test set\n",
    "X_train, X_test, y_train, y_test = train_test_split(X, y, test_size=0.3, random_state=42) # 70% training and 30% test"
   ]
  },
  {
   "cell_type": "code",
   "execution_count": null,
   "id": "structured-module",
   "metadata": {
    "id": "structured-module",
    "outputId": "98a2ecfd-d57f-498a-dc04-681fa357313e"
   },
   "outputs": [
    {
     "name": "stdout",
     "output_type": "stream",
     "text": [
      "testing accuracy:  100.0 %\n"
     ]
    }
   ],
   "source": [
    "# Create and Train the Random Forest Classifier\n",
    "#-------------------------------------------------------------------------------------------------\n",
    "# MODIFY: important tunable parameters for model\n",
    "number_of_trees = 30      # number of trees to \"average\" together to create a random forest\n",
    "tree_depth = 3            # maximum depth allowed for each tree\n",
    "node_split = 2            # minimum number of training samples needed to split a node\n",
    "leaf_samples = 1          # minimum number of training samples required to make a leaf node\n",
    "criterion = 'gini'        # 'gini' or 'entropy'\n",
    "bootstrap = False         # whether to perform \"bagging=bootstrap aggregating\" or not\n",
    "max_samples = 80          # number of samples to grab when training each tree IF bootstrap=True\n",
    "RAND_STATE = 17\n",
    "#-------------------------------------------------------------------------------------------------\n",
    "\n",
    "rf=RandomForestClassifier(n_estimators=number_of_trees,\n",
    "                           criterion=criterion,     \n",
    "                           random_state=RAND_STATE,\n",
    "                           min_samples_split = node_split,\n",
    "                           min_samples_leaf = leaf_samples,\n",
    "                           max_depth = tree_depth,\n",
    "                           bootstrap = bootstrap,\n",
    "                           max_samples = max_samples,\n",
    "                          )\n",
    "\n",
    "# train the model using the training sets\n",
    "rf.fit(X_train,y_train)\n",
    "\n",
    "# make predictions on the test set\n",
    "y_test_pred=rf.predict(X_test)\n",
    "acc = metrics.accuracy_score(y_test, y_test_pred) # compute the accuracy on the test set\n",
    "print(\"testing accuracy: \", np.around(acc*100), '%')"
   ]
  },
  {
   "cell_type": "markdown",
   "id": "auburn-quick",
   "metadata": {
    "id": "auburn-quick"
   },
   "source": [
    "### Feature Importance"
   ]
  },
  {
   "cell_type": "code",
   "execution_count": null,
   "id": "correct-assumption",
   "metadata": {
    "id": "correct-assumption",
    "outputId": "b04ec27b-c027-46cc-97d5-4f1abedc7967"
   },
   "outputs": [
    {
     "name": "stdout",
     "output_type": "stream",
     "text": [
      "\n",
      "Variable: petal width (cm)     Importance: 0.52\n",
      "Variable: petal length (cm)    Importance: 0.4\n",
      "Variable: sepal length (cm)    Importance: 0.07\n",
      "Variable: sepal width (cm)     Importance: 0.01\n",
      "\n"
     ]
    },
    {
     "data": {
      "image/png": "[encoded data removed]",
      "text/plain": [
       "<Figure size 432x288 with 1 Axes>"
      ]
     },
     "metadata": {
      "needs_background": "light",
      "tags": []
     },
     "output_type": "display_data"
    }
   ],
   "source": [
    "def calc_importances(rf, feature_list):\n",
    "\n",
    "    # Get numerical feature importances\n",
    "    importances = list(rf.feature_importances_)\n",
    "\n",
    "    # List of tuples with variable and importance\n",
    "    feature_importances = [(feature, round(importance, 2)) for feature, importance in zip(feature_list, importances)]\n",
    "\n",
    "    # Sort the feature importances by most important first\n",
    "    feature_importances = sorted(feature_importances, key = lambda x: x[1], reverse = True)\n",
    "\n",
    "    # Print out the feature and importances \n",
    "    print('')\n",
    "    [print('Variable: {:20} Importance: {}'.format(*pair)) for pair in feature_importances]\n",
    "    print('')\n",
    "\n",
    "    return importances\n",
    "\n",
    "def plot_feat_importances(importances, feature_list): \n",
    "    plt.figure()\n",
    "    # Set the style\n",
    "    plt.style.use('fivethirtyeight')\n",
    "    # list of x locations for plotting\n",
    "    x_values = list(range(len(importances)))\n",
    "    # Make a bar chart\n",
    "    plt.barh(x_values, importances)\n",
    "    # Tick labels for x axis\n",
    "    plt.yticks(x_values, feature_list)\n",
    "    # Axis labels and title\n",
    "    plt.xlabel('Importance'); plt.ylabel('Variable'); plt.title('Variable Importances')\n",
    "    \n",
    "    \n",
    "plot_feat_importances(calc_importances(rf,  iris.feature_names),  iris.feature_names)"
   ]
  },
  {
   "cell_type": "markdown",
   "id": "acquired-bedroom",
   "metadata": {
    "id": "acquired-bedroom"
   },
   "source": [
    "### Permutation Importance"
   ]
  },
  {
   "cell_type": "code",
   "execution_count": null,
   "id": "disciplinary-helen",
   "metadata": {
    "id": "disciplinary-helen"
   },
   "outputs": [],
   "source": [
    "# Single-pass permutation\n",
    "permute = permutation_importance(rf, X, y, n_repeats=20, \n",
    "                                 random_state=RAND_STATE)\n",
    "\n",
    "# Sort the importances\n",
    "sorted_idx = permute.importances_mean.argsort()"
   ]
  },
  {
   "cell_type": "code",
   "execution_count": null,
   "id": "shaped-paris",
   "metadata": {
    "id": "shaped-paris",
    "outputId": "2293ec34-0238-435c-b8d3-03db120e7b25"
   },
   "outputs": [
    {
     "data": {
      "image/png": "[encoded data removed]",
      "text/plain": [
       "<Figure size 432x288 with 1 Axes>"
      ]
     },
     "metadata": {
      "tags": []
     },
     "output_type": "display_data"
    }
   ],
   "source": [
    "def plot_perm_importances(permute, sorted_idx, feature_list):\n",
    "    # Sort the feature list based on \n",
    "    \n",
    "    new_feature_list = []\n",
    "    for index in sorted_idx:  \n",
    "        new_feature_list.append(feature_list[index])\n",
    "\n",
    "    fig, ax = plt.subplots()\n",
    "    ax.boxplot(permute.importances[sorted_idx].T,\n",
    "           vert=False, labels=new_feature_list)\n",
    "    ax.set_title(\"Permutation Importances\")\n",
    "    fig.tight_layout()\n",
    "    \n",
    "plot_perm_importances(permute, sorted_idx, iris.feature_names)"
   ]
  },
  {
   "cell_type": "markdown",
   "id": "southern-complex",
   "metadata": {
    "id": "southern-complex"
   },
   "source": [
    "### Save the random forest architecture to png in your Google Drive"
   ]
  },
  {
   "cell_type": "code",
   "execution_count": null,
   "id": "saved-dodge",
   "metadata": {
    "id": "saved-dodge"
   },
   "outputs": [],
   "source": [
    "# Make the path of your own Google Drive accessible to save a figure\n",
    "if IN_COLAB:\n",
    "    from google.colab import drive\n",
    "    drive.mount('/content/drive', force_remount=True)\n",
    "    local_path = '/content/drive/My Drive'\n",
    "else:\n",
    "    local_path = 'figures/'"
   ]
  },
  {
   "cell_type": "code",
   "execution_count": null,
   "id": "complimentary-massage",
   "metadata": {
    "id": "complimentary-massage"
   },
   "outputs": [],
   "source": [
    "fig_savename = 'iris_tree'\n",
    "tree = rf[-1]\n",
    "\n",
    "export_graphviz(tree,\n",
    "                out_file=local_path + '/' + fig_savename+'.dot',\n",
    "                filled=True,\n",
    "                proportion=False,\n",
    "                leaves_parallel=False,\n",
    "                class_names=iris.target_names,\n",
    "                feature_names=iris.feature_names)\n",
    "\n",
    "# Use dot file to create a graph to write to a png\n",
    "(graph, ) = pydot.graph_from_dot_file(local_path + '/' + fig_savename + '.dot')\n",
    "graph.write_png(local_path + '/' + fig_savename + '.png')\n"
   ]
  },
  {
   "cell_type": "markdown",
   "id": "worse-hardware",
   "metadata": {
    "id": "worse-hardware"
   },
   "source": [
    "![Decision Tree](/content/drive/My Drive/iris_tree.png)"
   ]
  },
  {
   "cell_type": "code",
   "execution_count": null,
   "id": "apart-settle",
   "metadata": {
    "id": "apart-settle"
   },
   "outputs": [],
   "source": []
  }
 ],
 "metadata": {
  "colab": {
   "name": "random_forest_iris.ipynb",
   "provenance": []
  },
  "kernelspec": {
   "display_name": "Python 3 (ipykernel)",
   "language": "python",
   "name": "python3"
  },
  "language_info": {
   "codemirror_mode": {
    "name": "ipython",
    "version": 3
   },
   "file_extension": ".py",
   "mimetype": "text/x-python",
   "name": "python",
   "nbconvert_exporter": "python",
   "pygments_lexer": "ipython3",
   "version": "3.9.7"
  }
 },
 "nbformat": 4,
 "nbformat_minor": 5
}
