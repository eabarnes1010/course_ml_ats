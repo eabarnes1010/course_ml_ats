{
  "nbformat": 4,
  "nbformat_minor": 0,
  "metadata": {
    "colab": {
      "provenance": []
    },
    "kernelspec": {
      "name": "python3",
      "display_name": "Python 3"
    },
    "language_info": {
      "name": "python"
    }
  },
  "cells": [
    {
      "cell_type": "markdown",
      "source": [
        "# Using a random forest to classify Palmer Penguins 🐧 by species\n",
        "\n",
        "[Palmer Penguins](https://allisonhorst.github.io/palmerpenguins/) is a dataset consisting of penguin measurements from the Palmer Archipelago in Antarctica. This notebook demonstrates the process to classify this data to species ([Adelie](https://www.antarctica.gov.au/about-antarctica/animals/penguins/adelie-penguin/), [Chinstrap](https://www.antarctica.gov.au/about-antarctica/animals/penguins/chinstrap-penguin/), or [Gentoo](https://www.antarctica.gov.au/about-antarctica/animals/penguins/gentoo-penguin/)) based on bill length, bill depth, flipper length, and body mass using a random forest model.\n",
        "\n",
        "[![Latest release](https://badgen.net/github/release/Naereen/Strapdown.js)](https://github.com/dmhuehol/palmerpenguins-classifiers)\n",
        "[![Open In Colab](https://colab.research.google.com/assets/colab-badge.svg)](https://colab.research.google.com/drive/1FmPDIxYamEPOYhywqZSZbtyL3cwZsxk8?usp=sharing)"
      ],
      "metadata": {
        "id": "-igGXP1oFzvl"
      }
    },
    {
      "cell_type": "markdown",
      "source": [
        "\n",
        "*    Example by [Daniel Hueholt](https://hueholt.earth), PhD student at Colorado State University (CSU)\n",
        "*    Borrows format and some functions from the [CSU Machine Learning Tutorial](https://zenodo.org/record/6686879) including code originally by Prof. Elizabeth Barnes, Zaibeth Carlo Frontera, Aaron Hill, Daniel Hueholt, Wei-Ting Hsiao, and Jamin Rader\n",
        "*    For details on Palmer Penguins and cute penguin art, see the official [Palmer Penguins page at GitHub](https://allisonhorst.github.io/palmerpenguins/) or [Horst et al. 2022](doi.org/10.32614/RJ-2022-020)\n"
      ],
      "metadata": {
        "id": "iqNhQxY9fpTX"
      }
    },
    {
      "cell_type": "markdown",
      "source": [
        "# 0. Set Up Environments"
      ],
      "metadata": {
        "id": "bguVSPBTGDSA"
      }
    },
    {
      "cell_type": "code",
      "execution_count": 48,
      "metadata": {
        "colab": {
          "base_uri": "https://localhost:8080/"
        },
        "id": "Ze7Vq_dxFgvg",
        "outputId": "812fcb06-260c-44b3-fdb3-d786018984d2"
      },
      "outputs": [
        {
          "output_type": "stream",
          "name": "stdout",
          "text": [
            "IN_COLAB = True\n"
          ]
        }
      ],
      "source": [
        "try:\n",
        "    import google.colab\n",
        "    IN_COLAB = True\n",
        "except:\n",
        "    IN_COLAB = False\n",
        "print('IN_COLAB = ' + str(IN_COLAB))"
      ]
    },
    {
      "cell_type": "code",
      "source": [
        "from graphviz import Source # To plot trees\n",
        "import matplotlib.pyplot as plt\n",
        "!pip install palmerpenguins\n",
        "from palmerpenguins import load_penguins # Dataset\n",
        "import numpy as np\n",
        "import pandas as pd # For confusion matrix\n",
        "import pydot\n",
        "import sklearn\n",
        "from sklearn.model_selection import train_test_split\n",
        "from sklearn import metrics\n",
        "from sklearn.ensemble import RandomForestClassifier\n",
        "from sklearn.inspection import permutation_importance\n",
        "from sklearn.tree import export_graphviz\n",
        "import sys\n",
        "\n",
        "print(f\"python version = {sys.version}\")\n",
        "print(f\"scikit-learn version = {sklearn.__version__}\")"
      ],
      "metadata": {
        "colab": {
          "base_uri": "https://localhost:8080/"
        },
        "id": "Hvu20cizGGtC",
        "outputId": "69fb3fc0-1fd2-4fed-d6b7-c8d4e171fc9d"
      },
      "execution_count": 49,
      "outputs": [
        {
          "output_type": "stream",
          "name": "stdout",
          "text": [
            "Looking in indexes: https://pypi.org/simple, https://us-python.pkg.dev/colab-wheels/public/simple/\n",
            "Requirement already satisfied: palmerpenguins in /usr/local/lib/python3.8/dist-packages (0.1.4)\n",
            "Requirement already satisfied: pandas in /usr/local/lib/python3.8/dist-packages (from palmerpenguins) (1.3.5)\n",
            "Requirement already satisfied: numpy in /usr/local/lib/python3.8/dist-packages (from palmerpenguins) (1.21.6)\n",
            "Requirement already satisfied: python-dateutil>=2.7.3 in /usr/local/lib/python3.8/dist-packages (from pandas->palmerpenguins) (2.8.2)\n",
            "Requirement already satisfied: pytz>=2017.3 in /usr/local/lib/python3.8/dist-packages (from pandas->palmerpenguins) (2022.7.1)\n",
            "Requirement already satisfied: six>=1.5 in /usr/local/lib/python3.8/dist-packages (from python-dateutil>=2.7.3->pandas->palmerpenguins) (1.15.0)\n",
            "python version = 3.8.10 (default, Nov 14 2022, 12:59:47) \n",
            "[GCC 9.4.0]\n",
            "scikit-learn version = 1.0.2\n"
          ]
        }
      ]
    },
    {
      "cell_type": "code",
      "source": [
        "# Make the path of your own Google Drive accessible to save a figure\n",
        "if IN_COLAB:\n",
        "    try:\n",
        "        from google.colab import drive\n",
        "        drive.mount('/content/drive', force_remount=True)\n",
        "        local_path = '/content/drive/My Drive/Colab Notebooks/'\n",
        "    except:\n",
        "        local_path = './'\n",
        "else:\n",
        "    local_path = '../figures/'\n"
      ],
      "metadata": {
        "colab": {
          "base_uri": "https://localhost:8080/"
        },
        "id": "AdMYVJEwZ2-S",
        "outputId": "e0c72204-7997-47f9-a4e4-07b5ff9f3437"
      },
      "execution_count": 50,
      "outputs": [
        {
          "output_type": "stream",
          "name": "stdout",
          "text": [
            "Mounted at /content/drive\n"
          ]
        }
      ]
    },
    {
      "cell_type": "markdown",
      "source": [
        "# 1. Load and look at data"
      ],
      "metadata": {
        "id": "Ni2RFOPnLFp4"
      }
    },
    {
      "cell_type": "code",
      "source": [
        "X,y = load_penguins(return_X_y=True, drop_na=True) #drop_na removes observations with NaN values\n",
        "print('--- FEATURES ---')\n",
        "print(X.head())\n",
        "feature_names = ['bill_length_mm', 'bill_depth_mm', 'flipper_length_mm', 'body_mass_g']\n",
        "print('--- LABELS ---')\n",
        "print(y.head())\n",
        "classes = ['Adelie', 'Chinstrap', 'Gentoo'] # These are the penguin species"
      ],
      "metadata": {
        "colab": {
          "base_uri": "https://localhost:8080/"
        },
        "id": "dlVkefX7Gz9e",
        "outputId": "1b11af74-adc4-494b-90ee-8d52b15b2a87"
      },
      "execution_count": 51,
      "outputs": [
        {
          "output_type": "stream",
          "name": "stdout",
          "text": [
            "--- FEATURES ---\n",
            "   bill_length_mm  bill_depth_mm  flipper_length_mm  body_mass_g\n",
            "0            39.1           18.7              181.0       3750.0\n",
            "1            39.5           17.4              186.0       3800.0\n",
            "2            40.3           18.0              195.0       3250.0\n",
            "4            36.7           19.3              193.0       3450.0\n",
            "5            39.3           20.6              190.0       3650.0\n",
            "--- LABELS ---\n",
            "0    Adelie\n",
            "1    Adelie\n",
            "2    Adelie\n",
            "4    Adelie\n",
            "5    Adelie\n",
            "Name: species, dtype: object\n"
          ]
        }
      ]
    },
    {
      "cell_type": "markdown",
      "source": [
        "We use the features (called `X`) to classify the data by target/label (called `y`). With this data, our targets/labels are the species of each penguin, while our features are physical measurements from each penguin."
      ],
      "metadata": {
        "id": "86CVP59YIACu"
      }
    },
    {
      "cell_type": "markdown",
      "source": [
        "We need to split the data into **training, validation, and testing datasets**. With Earth science data, we often need to carefully consider the method we use for this in order to prevent \"data leakage\" between these data splits. With penguins, this isn't a concern--so we can just use Scikit's default method to do this!"
      ],
      "metadata": {
        "id": "gocF_A1aJFxH"
      }
    },
    {
      "cell_type": "code",
      "source": [
        "X_trainval, X_test, y_trainval, y_test = train_test_split(X, y, test_size=100,\n",
        "                                                          random_state=13) # first reserve the held-back testing data\n",
        "X_train, X_val, y_train, y_val = train_test_split(X_trainval, y_trainval, test_size=100,\n",
        "                                                       random_state=13) # then reserve the validation data (for hyperparameter tuning)\n",
        " \n",
        "# Commented lines below are to look at the split data\n",
        "# print('--- TRAINING ---')\n",
        "# print(X_train.head(), y_train.head())\n",
        "# print('--- VALIDATION ---')\n",
        "# print(X_val.head(), y_val.head())\n",
        "# print('--- HELD-BACK TESTING --- ')\n",
        "# print(X_test.head(), y_test.head())"
      ],
      "metadata": {
        "id": "p0_hCKvrJoEs"
      },
      "execution_count": 52,
      "outputs": []
    },
    {
      "cell_type": "markdown",
      "source": [
        "We now have the following variables:\n",
        "\n",
        "\n",
        "*   `X_train` and `y_train`: features and labels used for training\n",
        "*   `X_val` and `y_val`: features and labels used for validation (hyperparameter tuning)\n",
        "*   `X_test` and `y_test`: features and labels held back for testing\n",
        "\n"
      ],
      "metadata": {
        "id": "6Sjeo2vjJ_me"
      }
    },
    {
      "cell_type": "markdown",
      "source": [
        "Now we are ready to set up the random forest model!"
      ],
      "metadata": {
        "id": "CWJO5lw7K78f"
      }
    },
    {
      "cell_type": "markdown",
      "source": [
        "# 2. Set up and run the random forest"
      ],
      "metadata": {
        "id": "wSgkAGd_LJcn"
      }
    },
    {
      "cell_type": "markdown",
      "source": [
        "We define the tunable parameters (hyperparameters) that we'll use for the model. We put these values in a dictionary so they can easily be accessed and modified for future experiments. Note these parameters give good performance because they have already been tuned for this demo!"
      ],
      "metadata": {
        "id": "aU-zxH5VLVPC"
      }
    },
    {
      "cell_type": "code",
      "source": [
        "### MODIFY HYPERPARAMETERS WITHIN THIS CELL\n",
        "fd = {\n",
        "    \"tree_number\": 15,    # number of trees to \"average\" together to create a random forest\n",
        "    \"tree_depth\": 5,      # maximum depth allowed for each tree\n",
        "    \"node_split\": 20,     # minimum number of training samples needed to split a node\n",
        "    \"leaf_samples\": 1,    # minimum number of training samples required to make a leaf node\n",
        "    \"criterion\": 'gini',  # information gain metric, 'gini' or 'entropy'\n",
        "    \"bootstrap\": False,   # whether to perform \"bagging=bootstrap aggregating\" or not\n",
        "    \"max_samples\": None,  # number of samples to grab when training each tree IF bootstrap=True, otherwise None \n",
        "    \"random_state\": 13    # set random state for reproducibility\n",
        "}\n",
        "\n",
        "### Default values are retained below for reference\n",
        "# fd = {\n",
        "#     \"tree_number\": 15,    # number of trees to \"average\" together to create a random forest\n",
        "#     \"tree_depth\": 5,      # maximum depth allowed for each tree\n",
        "#     \"node_split\": 20,     # minimum number of training samples needed to split a node\n",
        "#     \"leaf_samples\": 1,    # minimum number of training samples required to make a leaf node\n",
        "#     \"criterion\": 'gini',  # information gain metric, 'gini' or 'entropy'\n",
        "#     \"bootstrap\": False,   # whether to perform \"bagging=bootstrap aggregating\" or not\n",
        "#     \"max_samples\": None,  # number of samples to grab when training each tree IF bootstrap=True, otherwise None \n",
        "#     \"random_state\": 13    # set random state for reproducibility\n",
        "# }\n"
      ],
      "metadata": {
        "id": "Y0ZVTfa2KS9n"
      },
      "execution_count": 53,
      "outputs": []
    },
    {
      "cell_type": "markdown",
      "source": [
        "We set up the random forest classifier to use the hyperparameters we just specified.\n",
        "\n"
      ],
      "metadata": {
        "id": "kTu1Q0KqQ4if"
      }
    },
    {
      "cell_type": "code",
      "source": [
        "forest = RandomForestClassifier(\n",
        "                           n_estimators = fd[\"tree_number\"],\n",
        "                           random_state = fd[\"random_state\"],\n",
        "                           min_samples_split = fd[\"node_split\"],\n",
        "                           min_samples_leaf = fd[\"leaf_samples\"],\n",
        "                           criterion = fd[\"criterion\"],\n",
        "                           max_depth = fd[\"tree_depth\"],\n",
        "                           bootstrap = fd[\"bootstrap\"],\n",
        "                           max_samples = fd[\"max_samples\"])"
      ],
      "metadata": {
        "id": "NOBYEEuAQ9Ld"
      },
      "execution_count": 54,
      "outputs": []
    },
    {
      "cell_type": "markdown",
      "source": [
        "Now we are ready to train the random forest to identify the penguins from the measurements in our training dataset!"
      ],
      "metadata": {
        "id": "IoMoVdX2Rce0"
      }
    },
    {
      "cell_type": "code",
      "source": [
        "forest.fit(X_train, y_train) # Runs the forest classifier\n",
        "y_pred = forest.predict(X_train)"
      ],
      "metadata": {
        "id": "CSB9eLPNRf_t"
      },
      "execution_count": 55,
      "outputs": []
    },
    {
      "cell_type": "markdown",
      "source": [
        "Let's check how well we did on the training data using the accuracy score and a confusion matrix."
      ],
      "metadata": {
        "id": "qFgxjs9fVA9R"
      }
    },
    {
      "cell_type": "code",
      "source": [
        "acc = metrics.accuracy_score(y_train, y_pred)\n",
        "print(\"training accuracy: \", np.around(acc*100), '%')\n",
        "\n",
        "def confusion_matrix(predclasses, targclasses):\n",
        "  class_names = np.unique(targclasses)\n",
        "  table = []\n",
        "  for pred_class in class_names:\n",
        "    row = []\n",
        "    for true_class in class_names:\n",
        "        row.append(100 * np.mean(predclasses[targclasses == true_class] == pred_class))\n",
        "    table.append(row)\n",
        "  class_titles_t = classes\n",
        "  class_titles_p = classes\n",
        "  conf_matrix = pd.DataFrame(table, index=class_titles_p, columns=class_titles_t)\n",
        "  display(conf_matrix.style.background_gradient(cmap='Greens').format(\"{:.1f}\"))\n",
        "\n",
        "confusion_matrix(y_train, y_pred)"
      ],
      "metadata": {
        "colab": {
          "base_uri": "https://localhost:8080/",
          "height": 161
        },
        "id": "r5CeBVctVBsG",
        "outputId": "80f8807a-109b-467b-ee41-aec0b5c6d943"
      },
      "execution_count": 56,
      "outputs": [
        {
          "output_type": "stream",
          "name": "stdout",
          "text": [
            "training accuracy:  99.0 %\n"
          ]
        },
        {
          "output_type": "display_data",
          "data": {
            "text/plain": [
              "<pandas.io.formats.style.Styler at 0x7fdbd3de7790>"
            ],
            "text/html": [
              "<style type=\"text/css\">\n",
              "#T_e0188_row0_col0, #T_e0188_row1_col1, #T_e0188_row2_col2 {\n",
              "  background-color: #00441b;\n",
              "  color: #f1f1f1;\n",
              "}\n",
              "#T_e0188_row0_col1, #T_e0188_row0_col2, #T_e0188_row1_col2, #T_e0188_row2_col0, #T_e0188_row2_col1 {\n",
              "  background-color: #f7fcf5;\n",
              "  color: #000000;\n",
              "}\n",
              "#T_e0188_row1_col0 {\n",
              "  background-color: #f5fbf2;\n",
              "  color: #000000;\n",
              "}\n",
              "</style>\n",
              "<table id=\"T_e0188_\" class=\"dataframe\">\n",
              "  <thead>\n",
              "    <tr>\n",
              "      <th class=\"blank level0\" >&nbsp;</th>\n",
              "      <th class=\"col_heading level0 col0\" >Adelie</th>\n",
              "      <th class=\"col_heading level0 col1\" >Chinstrap</th>\n",
              "      <th class=\"col_heading level0 col2\" >Gentoo</th>\n",
              "    </tr>\n",
              "  </thead>\n",
              "  <tbody>\n",
              "    <tr>\n",
              "      <th id=\"T_e0188_level0_row0\" class=\"row_heading level0 row0\" >Adelie</th>\n",
              "      <td id=\"T_e0188_row0_col0\" class=\"data row0 col0\" >98.4</td>\n",
              "      <td id=\"T_e0188_row0_col1\" class=\"data row0 col1\" >0.0</td>\n",
              "      <td id=\"T_e0188_row0_col2\" class=\"data row0 col2\" >0.0</td>\n",
              "    </tr>\n",
              "    <tr>\n",
              "      <th id=\"T_e0188_level0_row1\" class=\"row_heading level0 row1\" >Chinstrap</th>\n",
              "      <td id=\"T_e0188_row1_col0\" class=\"data row1 col0\" >1.6</td>\n",
              "      <td id=\"T_e0188_row1_col1\" class=\"data row1 col1\" >100.0</td>\n",
              "      <td id=\"T_e0188_row1_col2\" class=\"data row1 col2\" >0.0</td>\n",
              "    </tr>\n",
              "    <tr>\n",
              "      <th id=\"T_e0188_level0_row2\" class=\"row_heading level0 row2\" >Gentoo</th>\n",
              "      <td id=\"T_e0188_row2_col0\" class=\"data row2 col0\" >0.0</td>\n",
              "      <td id=\"T_e0188_row2_col1\" class=\"data row2 col1\" >0.0</td>\n",
              "      <td id=\"T_e0188_row2_col2\" class=\"data row2 col2\" >100.0</td>\n",
              "    </tr>\n",
              "  </tbody>\n",
              "</table>\n"
            ]
          },
          "metadata": {}
        }
      ]
    },
    {
      "cell_type": "markdown",
      "source": [
        "Now let's try the validation data, to make sure our model applies to data it hasn't seen before."
      ],
      "metadata": {
        "id": "9totZLc4VRvv"
      }
    },
    {
      "cell_type": "code",
      "source": [
        "y_pred_val = forest.predict(X_val)\n",
        "\n",
        "acc = metrics.accuracy_score(y_val, y_pred_val)\n",
        "print(\"validation accuracy: \", np.around(acc*100), '%')\n",
        "confusion_matrix(y_val, y_pred_val)"
      ],
      "metadata": {
        "colab": {
          "base_uri": "https://localhost:8080/",
          "height": 161
        },
        "id": "p82LOZULUcwj",
        "outputId": "614fc665-664f-446e-fb79-d4fe8efc5353"
      },
      "execution_count": 57,
      "outputs": [
        {
          "output_type": "stream",
          "name": "stdout",
          "text": [
            "validation accuracy:  95.0 %\n"
          ]
        },
        {
          "output_type": "display_data",
          "data": {
            "text/plain": [
              "<pandas.io.formats.style.Styler at 0x7fdbd3db72e0>"
            ],
            "text/html": [
              "<style type=\"text/css\">\n",
              "#T_f960e_row0_col0, #T_f960e_row1_col1, #T_f960e_row2_col2 {\n",
              "  background-color: #00441b;\n",
              "  color: #f1f1f1;\n",
              "}\n",
              "#T_f960e_row0_col1 {\n",
              "  background-color: #eaf7e6;\n",
              "  color: #000000;\n",
              "}\n",
              "#T_f960e_row0_col2 {\n",
              "  background-color: #f4fbf1;\n",
              "  color: #000000;\n",
              "}\n",
              "#T_f960e_row1_col0 {\n",
              "  background-color: #eff9ec;\n",
              "  color: #000000;\n",
              "}\n",
              "#T_f960e_row1_col2, #T_f960e_row2_col0, #T_f960e_row2_col1 {\n",
              "  background-color: #f7fcf5;\n",
              "  color: #000000;\n",
              "}\n",
              "</style>\n",
              "<table id=\"T_f960e_\" class=\"dataframe\">\n",
              "  <thead>\n",
              "    <tr>\n",
              "      <th class=\"blank level0\" >&nbsp;</th>\n",
              "      <th class=\"col_heading level0 col0\" >Adelie</th>\n",
              "      <th class=\"col_heading level0 col1\" >Chinstrap</th>\n",
              "      <th class=\"col_heading level0 col2\" >Gentoo</th>\n",
              "    </tr>\n",
              "  </thead>\n",
              "  <tbody>\n",
              "    <tr>\n",
              "      <th id=\"T_f960e_level0_row0\" class=\"row_heading level0 row0\" >Adelie</th>\n",
              "      <td id=\"T_f960e_row0_col0\" class=\"data row0 col0\" >94.6</td>\n",
              "      <td id=\"T_f960e_row0_col1\" class=\"data row0 col1\" >8.3</td>\n",
              "      <td id=\"T_f960e_row0_col2\" class=\"data row0 col2\" >2.6</td>\n",
              "    </tr>\n",
              "    <tr>\n",
              "      <th id=\"T_f960e_level0_row1\" class=\"row_heading level0 row1\" >Chinstrap</th>\n",
              "      <td id=\"T_f960e_row1_col0\" class=\"data row1 col0\" >5.4</td>\n",
              "      <td id=\"T_f960e_row1_col1\" class=\"data row1 col1\" >91.7</td>\n",
              "      <td id=\"T_f960e_row1_col2\" class=\"data row1 col2\" >0.0</td>\n",
              "    </tr>\n",
              "    <tr>\n",
              "      <th id=\"T_f960e_level0_row2\" class=\"row_heading level0 row2\" >Gentoo</th>\n",
              "      <td id=\"T_f960e_row2_col0\" class=\"data row2 col0\" >0.0</td>\n",
              "      <td id=\"T_f960e_row2_col1\" class=\"data row2 col1\" >0.0</td>\n",
              "      <td id=\"T_f960e_row2_col2\" class=\"data row2 col2\" >97.4</td>\n",
              "    </tr>\n",
              "  </tbody>\n",
              "</table>\n"
            ]
          },
          "metadata": {}
        }
      ]
    },
    {
      "cell_type": "markdown",
      "source": [
        "Continue tuning the hyperparameters until you're happy with the validation accuracy. Once you are, you can once (and only once!) apply your model on the testing data. Before we do that, it's useful to try to understand how the model makes its decisions. This helps you to check whether it's overfitting, not successfully making decisions, or is ready to roll!"
      ],
      "metadata": {
        "id": "pmEhbx-kVkWc"
      }
    },
    {
      "cell_type": "markdown",
      "source": [
        "# 3. Explainability and interpretability"
      ],
      "metadata": {
        "id": "7AqAy0fcZhPB"
      }
    },
    {
      "cell_type": "markdown",
      "source": [
        "## 3.1. Look at an individual tree"
      ],
      "metadata": {
        "id": "QKmG9UvKeMPh"
      }
    },
    {
      "cell_type": "markdown",
      "source": [
        "Random forests are made up of individual decision trees. You can get an idea of how the model is making its decisions by looking at these trees. Simple decision trees are easily *interpretable*, that is, humans can easily understand the method by which the model makes its decisions."
      ],
      "metadata": {
        "id": "ODLfg4hZX2vk"
      }
    },
    {
      "cell_type": "code",
      "source": [
        "fig_savename = 'rf_penguin_tree'\n",
        "tree_to_plot = 0 # Enter the value of the tree that you want to see!\n",
        "\n",
        "tree = forest[tree_to_plot] # Obtain the tree to plot\n",
        "tree_numstr = str(tree_to_plot) # Adds the tree number to filename\n",
        "\n",
        "complete_savename = fig_savename + '_' + tree_numstr + '.dot'\n",
        "export_graphviz(tree,\n",
        "                out_file=local_path + '/' + complete_savename,\n",
        "                filled=True,\n",
        "                proportion=False,\n",
        "                leaves_parallel=False,\n",
        "                class_names=classes,\n",
        "                feature_names=feature_names)\n",
        "\n",
        "Source.from_file(local_path + complete_savename)"
      ],
      "metadata": {
        "colab": {
          "base_uri": "https://localhost:8080/",
          "height": 757
        },
        "id": "PQQcmqxMYykh",
        "outputId": "9dcee9ac-72c1-4f68-c3d2-0e6556fe47cc"
      },
      "execution_count": 58,
      "outputs": [
        {
          "output_type": "execute_result",
          "data": {
            "text/plain": [
              "<graphviz.files.Source at 0x7fdbd392b340>"
            ],
            "image/svg+xml": "<?xml version=\"1.0\" encoding=\"UTF-8\" standalone=\"no\"?>\n<!DOCTYPE svg PUBLIC \"-//W3C//DTD SVG 1.1//EN\"\n \"http://www.w3.org/Graphics/SVG/1.1/DTD/svg11.dtd\">\n<!-- Generated by graphviz version 2.43.0 (0)\n -->\n<!-- Title: Tree Pages: 1 -->\n<svg width=\"594pt\" height=\"552pt\"\n viewBox=\"0.00 0.00 593.50 552.00\" xmlns=\"http://www.w3.org/2000/svg\" xmlns:xlink=\"http://www.w3.org/1999/xlink\">\n<g id=\"graph0\" class=\"graph\" transform=\"scale(1 1) rotate(0) translate(4 548)\">\n<title>Tree</title>\n<polygon fill=\"white\" stroke=\"transparent\" points=\"-4,4 -4,-548 589.5,-548 589.5,4 -4,4\"/>\n<!-- 0 -->\n<g id=\"node1\" class=\"node\">\n<title>0</title>\n<polygon fill=\"#fbede3\" stroke=\"black\" points=\"354,-544 198,-544 198,-461 354,-461 354,-544\"/>\n<text text-anchor=\"middle\" x=\"276\" y=\"-528.8\" font-family=\"Helvetica,sans-Serif\" font-size=\"14.00\">bill_depth_mm &lt;= 16.4</text>\n<text text-anchor=\"middle\" x=\"276\" y=\"-513.8\" font-family=\"Helvetica,sans-Serif\" font-size=\"14.00\">gini = 0.624</text>\n<text text-anchor=\"middle\" x=\"276\" y=\"-498.8\" font-family=\"Helvetica,sans-Serif\" font-size=\"14.00\">samples = 133</text>\n<text text-anchor=\"middle\" x=\"276\" y=\"-483.8\" font-family=\"Helvetica,sans-Serif\" font-size=\"14.00\">value = [61, 23, 49]</text>\n<text text-anchor=\"middle\" x=\"276\" y=\"-468.8\" font-family=\"Helvetica,sans-Serif\" font-size=\"14.00\">class = Adelie</text>\n</g>\n<!-- 1 -->\n<g id=\"node2\" class=\"node\">\n<title>1</title>\n<polygon fill=\"#8946e7\" stroke=\"black\" points=\"267.5,-425 80.5,-425 80.5,-342 267.5,-342 267.5,-425\"/>\n<text text-anchor=\"middle\" x=\"174\" y=\"-409.8\" font-family=\"Helvetica,sans-Serif\" font-size=\"14.00\">flipper_length_mm &lt;= 199.0</text>\n<text text-anchor=\"middle\" x=\"174\" y=\"-394.8\" font-family=\"Helvetica,sans-Serif\" font-size=\"14.00\">gini = 0.117</text>\n<text text-anchor=\"middle\" x=\"174\" y=\"-379.8\" font-family=\"Helvetica,sans-Serif\" font-size=\"14.00\">samples = 48</text>\n<text text-anchor=\"middle\" x=\"174\" y=\"-364.8\" font-family=\"Helvetica,sans-Serif\" font-size=\"14.00\">value = [3, 0, 45]</text>\n<text text-anchor=\"middle\" x=\"174\" y=\"-349.8\" font-family=\"Helvetica,sans-Serif\" font-size=\"14.00\">class = Gentoo</text>\n</g>\n<!-- 0&#45;&gt;1 -->\n<g id=\"edge1\" class=\"edge\">\n<title>0&#45;&gt;1</title>\n<path fill=\"none\" stroke=\"black\" d=\"M240.61,-460.91C232.7,-451.83 224.23,-442.12 216.08,-432.77\"/>\n<polygon fill=\"black\" stroke=\"black\" points=\"218.54,-430.26 209.33,-425.02 213.26,-434.86 218.54,-430.26\"/>\n<text text-anchor=\"middle\" x=\"207.62\" y=\"-446.26\" font-family=\"Helvetica,sans-Serif\" font-size=\"14.00\">True</text>\n</g>\n<!-- 4 -->\n<g id=\"node5\" class=\"node\">\n<title>4</title>\n<polygon fill=\"#f0b88f\" stroke=\"black\" points=\"472.5,-425 285.5,-425 285.5,-342 472.5,-342 472.5,-425\"/>\n<text text-anchor=\"middle\" x=\"379\" y=\"-409.8\" font-family=\"Helvetica,sans-Serif\" font-size=\"14.00\">flipper_length_mm &lt;= 200.5</text>\n<text text-anchor=\"middle\" x=\"379\" y=\"-394.8\" font-family=\"Helvetica,sans-Serif\" font-size=\"14.00\">gini = 0.459</text>\n<text text-anchor=\"middle\" x=\"379\" y=\"-379.8\" font-family=\"Helvetica,sans-Serif\" font-size=\"14.00\">samples = 85</text>\n<text text-anchor=\"middle\" x=\"379\" y=\"-364.8\" font-family=\"Helvetica,sans-Serif\" font-size=\"14.00\">value = [58, 23, 4]</text>\n<text text-anchor=\"middle\" x=\"379\" y=\"-349.8\" font-family=\"Helvetica,sans-Serif\" font-size=\"14.00\">class = Adelie</text>\n</g>\n<!-- 0&#45;&gt;4 -->\n<g id=\"edge4\" class=\"edge\">\n<title>0&#45;&gt;4</title>\n<path fill=\"none\" stroke=\"black\" d=\"M311.74,-460.91C319.72,-451.83 328.27,-442.12 336.51,-432.77\"/>\n<polygon fill=\"black\" stroke=\"black\" points=\"339.35,-434.84 343.33,-425.02 334.09,-430.21 339.35,-434.84\"/>\n<text text-anchor=\"middle\" x=\"344.92\" y=\"-446.27\" font-family=\"Helvetica,sans-Serif\" font-size=\"14.00\">False</text>\n</g>\n<!-- 2 -->\n<g id=\"node3\" class=\"node\">\n<title>2</title>\n<polygon fill=\"#e58139\" stroke=\"black\" points=\"110,-298.5 0,-298.5 0,-230.5 110,-230.5 110,-298.5\"/>\n<text text-anchor=\"middle\" x=\"55\" y=\"-283.3\" font-family=\"Helvetica,sans-Serif\" font-size=\"14.00\">gini = 0.0</text>\n<text text-anchor=\"middle\" x=\"55\" y=\"-268.3\" font-family=\"Helvetica,sans-Serif\" font-size=\"14.00\">samples = 3</text>\n<text text-anchor=\"middle\" x=\"55\" y=\"-253.3\" font-family=\"Helvetica,sans-Serif\" font-size=\"14.00\">value = [3, 0, 0]</text>\n<text text-anchor=\"middle\" x=\"55\" y=\"-238.3\" font-family=\"Helvetica,sans-Serif\" font-size=\"14.00\">class = Adelie</text>\n</g>\n<!-- 1&#45;&gt;2 -->\n<g id=\"edge2\" class=\"edge\">\n<title>1&#45;&gt;2</title>\n<path fill=\"none\" stroke=\"black\" d=\"M132.71,-341.91C120.82,-330.21 107.85,-317.46 95.97,-305.78\"/>\n<polygon fill=\"black\" stroke=\"black\" points=\"98.32,-303.18 88.73,-298.67 93.41,-308.17 98.32,-303.18\"/>\n</g>\n<!-- 3 -->\n<g id=\"node4\" class=\"node\">\n<title>3</title>\n<polygon fill=\"#8139e5\" stroke=\"black\" points=\"245.5,-298.5 128.5,-298.5 128.5,-230.5 245.5,-230.5 245.5,-298.5\"/>\n<text text-anchor=\"middle\" x=\"187\" y=\"-283.3\" font-family=\"Helvetica,sans-Serif\" font-size=\"14.00\">gini = 0.0</text>\n<text text-anchor=\"middle\" x=\"187\" y=\"-268.3\" font-family=\"Helvetica,sans-Serif\" font-size=\"14.00\">samples = 45</text>\n<text text-anchor=\"middle\" x=\"187\" y=\"-253.3\" font-family=\"Helvetica,sans-Serif\" font-size=\"14.00\">value = [0, 0, 45]</text>\n<text text-anchor=\"middle\" x=\"187\" y=\"-238.3\" font-family=\"Helvetica,sans-Serif\" font-size=\"14.00\">class = Gentoo</text>\n</g>\n<!-- 1&#45;&gt;3 -->\n<g id=\"edge3\" class=\"edge\">\n<title>1&#45;&gt;3</title>\n<path fill=\"none\" stroke=\"black\" d=\"M178.51,-341.91C179.7,-331.2 180.99,-319.62 182.19,-308.78\"/>\n<polygon fill=\"black\" stroke=\"black\" points=\"185.69,-308.99 183.31,-298.67 178.73,-308.22 185.69,-308.99\"/>\n</g>\n<!-- 5 -->\n<g id=\"node6\" class=\"node\">\n<title>5</title>\n<polygon fill=\"#eca16b\" stroke=\"black\" points=\"446.5,-306 287.5,-306 287.5,-223 446.5,-223 446.5,-306\"/>\n<text text-anchor=\"middle\" x=\"367\" y=\"-290.8\" font-family=\"Helvetica,sans-Serif\" font-size=\"14.00\">bill_length_mm &lt;= 44.4</text>\n<text text-anchor=\"middle\" x=\"367\" y=\"-275.8\" font-family=\"Helvetica,sans-Serif\" font-size=\"14.00\">gini = 0.323</text>\n<text text-anchor=\"middle\" x=\"367\" y=\"-260.8\" font-family=\"Helvetica,sans-Serif\" font-size=\"14.00\">samples = 69</text>\n<text text-anchor=\"middle\" x=\"367\" y=\"-245.8\" font-family=\"Helvetica,sans-Serif\" font-size=\"14.00\">value = [55, 14, 0]</text>\n<text text-anchor=\"middle\" x=\"367\" y=\"-230.8\" font-family=\"Helvetica,sans-Serif\" font-size=\"14.00\">class = Adelie</text>\n</g>\n<!-- 4&#45;&gt;5 -->\n<g id=\"edge5\" class=\"edge\">\n<title>4&#45;&gt;5</title>\n<path fill=\"none\" stroke=\"black\" d=\"M374.84,-341.91C373.98,-333.56 373.07,-324.67 372.18,-316.02\"/>\n<polygon fill=\"black\" stroke=\"black\" points=\"375.66,-315.61 371.16,-306.02 368.69,-316.33 375.66,-315.61\"/>\n</g>\n<!-- 10 -->\n<g id=\"node11\" class=\"node\">\n<title>10</title>\n<polygon fill=\"#acf4ca\" stroke=\"black\" points=\"585.5,-298.5 464.5,-298.5 464.5,-230.5 585.5,-230.5 585.5,-298.5\"/>\n<text text-anchor=\"middle\" x=\"525\" y=\"-283.3\" font-family=\"Helvetica,sans-Serif\" font-size=\"14.00\">gini = 0.586</text>\n<text text-anchor=\"middle\" x=\"525\" y=\"-268.3\" font-family=\"Helvetica,sans-Serif\" font-size=\"14.00\">samples = 16</text>\n<text text-anchor=\"middle\" x=\"525\" y=\"-253.3\" font-family=\"Helvetica,sans-Serif\" font-size=\"14.00\">value = [3, 9, 4]</text>\n<text text-anchor=\"middle\" x=\"525\" y=\"-238.3\" font-family=\"Helvetica,sans-Serif\" font-size=\"14.00\">class = Chinstrap</text>\n</g>\n<!-- 4&#45;&gt;10 -->\n<g id=\"edge10\" class=\"edge\">\n<title>4&#45;&gt;10</title>\n<path fill=\"none\" stroke=\"black\" d=\"M429.65,-341.91C444.53,-329.99 460.77,-316.98 475.56,-305.12\"/>\n<polygon fill=\"black\" stroke=\"black\" points=\"478,-307.65 483.61,-298.67 473.62,-302.19 478,-307.65\"/>\n</g>\n<!-- 6 -->\n<g id=\"node7\" class=\"node\">\n<title>6</title>\n<polygon fill=\"#e5833d\" stroke=\"black\" points=\"368,-187 204,-187 204,-104 368,-104 368,-187\"/>\n<text text-anchor=\"middle\" x=\"286\" y=\"-171.8\" font-family=\"Helvetica,sans-Serif\" font-size=\"14.00\">bill_depth_mm &lt;= 16.65</text>\n<text text-anchor=\"middle\" x=\"286\" y=\"-156.8\" font-family=\"Helvetica,sans-Serif\" font-size=\"14.00\">gini = 0.035</text>\n<text text-anchor=\"middle\" x=\"286\" y=\"-141.8\" font-family=\"Helvetica,sans-Serif\" font-size=\"14.00\">samples = 56</text>\n<text text-anchor=\"middle\" x=\"286\" y=\"-126.8\" font-family=\"Helvetica,sans-Serif\" font-size=\"14.00\">value = [55, 1, 0]</text>\n<text text-anchor=\"middle\" x=\"286\" y=\"-111.8\" font-family=\"Helvetica,sans-Serif\" font-size=\"14.00\">class = Adelie</text>\n</g>\n<!-- 5&#45;&gt;6 -->\n<g id=\"edge6\" class=\"edge\">\n<title>5&#45;&gt;6</title>\n<path fill=\"none\" stroke=\"black\" d=\"M338.9,-222.91C332.74,-214.01 326.16,-204.51 319.81,-195.33\"/>\n<polygon fill=\"black\" stroke=\"black\" points=\"322.62,-193.25 314.05,-187.02 316.87,-197.24 322.62,-193.25\"/>\n</g>\n<!-- 9 -->\n<g id=\"node10\" class=\"node\">\n<title>9</title>\n<polygon fill=\"#39e581\" stroke=\"black\" points=\"507.5,-179.5 386.5,-179.5 386.5,-111.5 507.5,-111.5 507.5,-179.5\"/>\n<text text-anchor=\"middle\" x=\"447\" y=\"-164.3\" font-family=\"Helvetica,sans-Serif\" font-size=\"14.00\">gini = 0.0</text>\n<text text-anchor=\"middle\" x=\"447\" y=\"-149.3\" font-family=\"Helvetica,sans-Serif\" font-size=\"14.00\">samples = 13</text>\n<text text-anchor=\"middle\" x=\"447\" y=\"-134.3\" font-family=\"Helvetica,sans-Serif\" font-size=\"14.00\">value = [0, 13, 0]</text>\n<text text-anchor=\"middle\" x=\"447\" y=\"-119.3\" font-family=\"Helvetica,sans-Serif\" font-size=\"14.00\">class = Chinstrap</text>\n</g>\n<!-- 5&#45;&gt;9 -->\n<g id=\"edge9\" class=\"edge\">\n<title>5&#45;&gt;9</title>\n<path fill=\"none\" stroke=\"black\" d=\"M394.76,-222.91C402.45,-211.65 410.82,-199.42 418.55,-188.11\"/>\n<polygon fill=\"black\" stroke=\"black\" points=\"421.57,-189.9 424.32,-179.67 415.79,-185.95 421.57,-189.9\"/>\n</g>\n<!-- 7 -->\n<g id=\"node8\" class=\"node\">\n<title>7</title>\n<polygon fill=\"#eca06a\" stroke=\"black\" points=\"275,-68 165,-68 165,0 275,0 275,-68\"/>\n<text text-anchor=\"middle\" x=\"220\" y=\"-52.8\" font-family=\"Helvetica,sans-Serif\" font-size=\"14.00\">gini = 0.32</text>\n<text text-anchor=\"middle\" x=\"220\" y=\"-37.8\" font-family=\"Helvetica,sans-Serif\" font-size=\"14.00\">samples = 5</text>\n<text text-anchor=\"middle\" x=\"220\" y=\"-22.8\" font-family=\"Helvetica,sans-Serif\" font-size=\"14.00\">value = [4, 1, 0]</text>\n<text text-anchor=\"middle\" x=\"220\" y=\"-7.8\" font-family=\"Helvetica,sans-Serif\" font-size=\"14.00\">class = Adelie</text>\n</g>\n<!-- 6&#45;&gt;7 -->\n<g id=\"edge7\" class=\"edge\">\n<title>6&#45;&gt;7</title>\n<path fill=\"none\" stroke=\"black\" d=\"M261.42,-103.73C256.15,-94.97 250.56,-85.7 245.26,-76.91\"/>\n<polygon fill=\"black\" stroke=\"black\" points=\"248.23,-75.06 240.07,-68.3 242.24,-78.67 248.23,-75.06\"/>\n</g>\n<!-- 8 -->\n<g id=\"node9\" class=\"node\">\n<title>8</title>\n<polygon fill=\"#e58139\" stroke=\"black\" points=\"410.5,-68 293.5,-68 293.5,0 410.5,0 410.5,-68\"/>\n<text text-anchor=\"middle\" x=\"352\" y=\"-52.8\" font-family=\"Helvetica,sans-Serif\" font-size=\"14.00\">gini = 0.0</text>\n<text text-anchor=\"middle\" x=\"352\" y=\"-37.8\" font-family=\"Helvetica,sans-Serif\" font-size=\"14.00\">samples = 51</text>\n<text text-anchor=\"middle\" x=\"352\" y=\"-22.8\" font-family=\"Helvetica,sans-Serif\" font-size=\"14.00\">value = [51, 0, 0]</text>\n<text text-anchor=\"middle\" x=\"352\" y=\"-7.8\" font-family=\"Helvetica,sans-Serif\" font-size=\"14.00\">class = Adelie</text>\n</g>\n<!-- 6&#45;&gt;8 -->\n<g id=\"edge8\" class=\"edge\">\n<title>6&#45;&gt;8</title>\n<path fill=\"none\" stroke=\"black\" d=\"M310.58,-103.73C315.85,-94.97 321.44,-85.7 326.74,-76.91\"/>\n<polygon fill=\"black\" stroke=\"black\" points=\"329.76,-78.67 331.93,-68.3 323.77,-75.06 329.76,-78.67\"/>\n</g>\n</g>\n</svg>\n"
          },
          "metadata": {},
          "execution_count": 58
        }
      ]
    },
    {
      "cell_type": "markdown",
      "source": [
        "## 3.2. Feature importance"
      ],
      "metadata": {
        "id": "5N3rDBo1eQA3"
      }
    },
    {
      "cell_type": "markdown",
      "source": [
        "Another useful way to understand your random forest is through feature importance, which shows how important each feature was to the random forest's predictions."
      ],
      "metadata": {
        "id": "XXdXA759d5aa"
      }
    },
    {
      "cell_type": "code",
      "source": [
        "def calc_importances(rf, feature_list):\n",
        "    ''' Calculate feature importance '''\n",
        "    # Get numerical feature importances\n",
        "    importances = list(rf.feature_importances_)\n",
        "\n",
        "    # List of tuples with variable and importance\n",
        "    feature_importances = [(feature, round(importance, 2)) for feature, importance in zip(feature_list, importances)]\n",
        "\n",
        "    # Sort the feature importances by most important first\n",
        "    feature_importances = sorted(feature_importances, key = lambda x: x[1], reverse = True)\n",
        "\n",
        "    # Print out the feature and importances \n",
        "    print('')\n",
        "    [print('Variable: {:20} Importance: {}'.format(*pair)) for pair in feature_importances]\n",
        "    print('')\n",
        "\n",
        "    return importances\n",
        "\n",
        "def plot_feat_importances(importances, feature_list):\n",
        "    ''' Plot the feature importance calculated by calc_importances ''' \n",
        "    plt.figure()\n",
        "    # Set the style\n",
        "    plt.style.use('fivethirtyeight')\n",
        "    # list of x locations for plotting\n",
        "    x_values = list(range(len(importances)))\n",
        "    # Make a bar chart\n",
        "    plt.barh(x_values, importances)\n",
        "    # Tick labels for x axis\n",
        "    plt.yticks(x_values, feature_list)\n",
        "    # Axis labels and title\n",
        "    plt.xlabel('Importance'); plt.ylabel('Variable'); plt.title('Variable Importances')\n",
        "    \n",
        "    \n",
        "plot_feat_importances(calc_importances(forest, feature_names),  feature_names)"
      ],
      "metadata": {
        "colab": {
          "base_uri": "https://localhost:8080/",
          "height": 429
        },
        "id": "vEdtfAX_eVwS",
        "outputId": "b946bd40-0ff6-42cd-a1d7-71e46ca795da"
      },
      "execution_count": 59,
      "outputs": [
        {
          "output_type": "stream",
          "name": "stdout",
          "text": [
            "\n",
            "Variable: bill_length_mm       Importance: 0.36\n",
            "Variable: flipper_length_mm    Importance: 0.35\n",
            "Variable: bill_depth_mm        Importance: 0.24\n",
            "Variable: body_mass_g          Importance: 0.05\n",
            "\n"
          ]
        },
        {
          "output_type": "display_data",
          "data": {
            "text/plain": [
              "<Figure size 432x288 with 1 Axes>"
            ],
            "image/png": "[encoded data removed]"
          },
          "metadata": {}
        }
      ]
    },
    {
      "cell_type": "markdown",
      "source": [
        "## 3.3. Permutation importance"
      ],
      "metadata": {
        "id": "FF-W-c9SfA0l"
      }
    },
    {
      "cell_type": "markdown",
      "source": [
        "Permutation importance shows which features cause the largest drop in skill if they are randomly shuffled."
      ],
      "metadata": {
        "id": "D-1tB1MBfCfL"
      }
    },
    {
      "cell_type": "code",
      "source": [
        "# Single-pass permutation\n",
        "permute = permutation_importance(\n",
        "    forest, X, y, n_repeats=20, random_state=fd[\"random_state\"])\n",
        "\n",
        "# Sort the importances\n",
        "sorted_idx = permute.importances_mean.argsort()"
      ],
      "metadata": {
        "id": "vkZYz1SvfJtX"
      },
      "execution_count": 60,
      "outputs": []
    },
    {
      "cell_type": "code",
      "source": [
        "def plot_perm_importances(permute, sorted_idx, feature_list):\n",
        "    ''' Plot the permutation importances calculated in previous cell '''\n",
        "    # Sort the feature list based on \n",
        "    new_feature_list = []\n",
        "    for index in sorted_idx:  \n",
        "        new_feature_list.append(feature_list[index])\n",
        "\n",
        "    fig, ax = plt.subplots()\n",
        "    ax.boxplot(permute.importances[sorted_idx].T,\n",
        "           vert=False, labels=new_feature_list)\n",
        "    ax.set_title(\"Permutation Importances\")\n",
        "    fig.tight_layout()\n",
        "    \n",
        "plot_perm_importances(permute, sorted_idx, feature_names)"
      ],
      "metadata": {
        "colab": {
          "base_uri": "https://localhost:8080/",
          "height": 289
        },
        "id": "A0MfL96PfTwp",
        "outputId": "16934ee3-d891-4022-e67d-abd39ba6c924"
      },
      "execution_count": 61,
      "outputs": [
        {
          "output_type": "display_data",
          "data": {
            "text/plain": [
              "<Figure size 432x288 with 1 Axes>"
            ],
            "image/png": "[encoded data removed]"
          },
          "metadata": {}
        }
      ]
    },
    {
      "cell_type": "markdown",
      "source": [
        "# 4. Run random forest classifier on the testing data"
      ],
      "metadata": {
        "id": "244YfBp9d7F5"
      }
    },
    {
      "cell_type": "markdown",
      "source": [
        "Once you're happy with your model and feel ready, run your random forest on the testing data!"
      ],
      "metadata": {
        "id": "NuYsKqgJdpHB"
      }
    },
    {
      "cell_type": "code",
      "source": [
        "y_pred_test = forest.predict(X_test)\n",
        "\n",
        "acc = metrics.accuracy_score(y_test, y_pred_test)\n",
        "print(\"held-back testing accuracy: \", np.around(acc*100), '%')\n",
        "confusion_matrix(y_test, y_pred_test)"
      ],
      "metadata": {
        "colab": {
          "base_uri": "https://localhost:8080/",
          "height": 161
        },
        "id": "MFDon5m_ZQ2-",
        "outputId": "0410ad2b-68a7-44ae-e03b-ff47e09b6d11"
      },
      "execution_count": 62,
      "outputs": [
        {
          "output_type": "stream",
          "name": "stdout",
          "text": [
            "held-back testing accuracy:  96.0 %\n"
          ]
        },
        {
          "output_type": "display_data",
          "data": {
            "text/plain": [
              "<pandas.io.formats.style.Styler at 0x7fdbd002cbe0>"
            ],
            "text/html": [
              "<style type=\"text/css\">\n",
              "#T_b3e76_row0_col0, #T_b3e76_row1_col1, #T_b3e76_row2_col2 {\n",
              "  background-color: #00441b;\n",
              "  color: #f1f1f1;\n",
              "}\n",
              "#T_b3e76_row0_col1 {\n",
              "  background-color: #e8f6e4;\n",
              "  color: #000000;\n",
              "}\n",
              "#T_b3e76_row0_col2, #T_b3e76_row1_col2, #T_b3e76_row2_col0, #T_b3e76_row2_col1 {\n",
              "  background-color: #f7fcf5;\n",
              "  color: #000000;\n",
              "}\n",
              "#T_b3e76_row1_col0 {\n",
              "  background-color: #f1faee;\n",
              "  color: #000000;\n",
              "}\n",
              "</style>\n",
              "<table id=\"T_b3e76_\" class=\"dataframe\">\n",
              "  <thead>\n",
              "    <tr>\n",
              "      <th class=\"blank level0\" >&nbsp;</th>\n",
              "      <th class=\"col_heading level0 col0\" >Adelie</th>\n",
              "      <th class=\"col_heading level0 col1\" >Chinstrap</th>\n",
              "      <th class=\"col_heading level0 col2\" >Gentoo</th>\n",
              "    </tr>\n",
              "  </thead>\n",
              "  <tbody>\n",
              "    <tr>\n",
              "      <th id=\"T_b3e76_level0_row0\" class=\"row_heading level0 row0\" >Adelie</th>\n",
              "      <td id=\"T_b3e76_row0_col0\" class=\"data row0 col0\" >95.7</td>\n",
              "      <td id=\"T_b3e76_row0_col1\" class=\"data row0 col1\" >9.5</td>\n",
              "      <td id=\"T_b3e76_row0_col2\" class=\"data row0 col2\" >0.0</td>\n",
              "    </tr>\n",
              "    <tr>\n",
              "      <th id=\"T_b3e76_level0_row1\" class=\"row_heading level0 row1\" >Chinstrap</th>\n",
              "      <td id=\"T_b3e76_row1_col0\" class=\"data row1 col0\" >4.3</td>\n",
              "      <td id=\"T_b3e76_row1_col1\" class=\"data row1 col1\" >90.5</td>\n",
              "      <td id=\"T_b3e76_row1_col2\" class=\"data row1 col2\" >0.0</td>\n",
              "    </tr>\n",
              "    <tr>\n",
              "      <th id=\"T_b3e76_level0_row2\" class=\"row_heading level0 row2\" >Gentoo</th>\n",
              "      <td id=\"T_b3e76_row2_col0\" class=\"data row2 col0\" >0.0</td>\n",
              "      <td id=\"T_b3e76_row2_col1\" class=\"data row2 col1\" >0.0</td>\n",
              "      <td id=\"T_b3e76_row2_col2\" class=\"data row2 col2\" >100.0</td>\n",
              "    </tr>\n",
              "  </tbody>\n",
              "</table>\n"
            ]
          },
          "metadata": {}
        }
      ]
    },
    {
      "cell_type": "markdown",
      "source": [
        "🐧"
      ],
      "metadata": {
        "id": "pkQ3eTWKk22V"
      }
    }
  ]
}