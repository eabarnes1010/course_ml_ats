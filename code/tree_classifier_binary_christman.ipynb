{
 "cells": [
  {
   "cell_type": "markdown",
   "metadata": {
    "id": "9QQ0q47JvgwX"
   },
   "source": [
    "# Decision tree binary classifier using atmospheric data from Christman Field\n",
    "[![Latest release](https://badgen.net/github/release/Naereen/Strapdown.js)](https://github.com/eabarnes1010/course_ml_ats/tree/main/code)\n",
    "[![Open In Colab](https://colab.research.google.com/assets/colab-badge.svg)](https://colab.research.google.com/github/eabarnes1010/course_ml_ats/blob/main/code/tree_classifier_binary_christman.ipynb)\n",
    "\n",
    "* Iris example adapted from: https://www.datacamp.com/community/tutorials/random-forests-classifier-python\n",
    "* Further modified by: Aaron Hill and Wei-Ting Hsiao (Dept. of Atmospheric Science, Colorado State University), January 2020\n",
    "* Further adapted by: Prof. Elizabeth Barnes for ATS 780A7 Spring 2022 at Colorado State University"
   ]
  },
  {
   "cell_type": "markdown",
   "metadata": {
    "id": "7V55BtYqA52O"
   },
   "source": [
    "Lets import some libraries we will need throughout this tutorial:\n",
    "\n"
   ]
  },
  {
   "cell_type": "code",
   "execution_count": 1,
   "metadata": {
    "colab": {
     "base_uri": "https://localhost:8080/"
    },
    "executionInfo": {
     "elapsed": 126,
     "status": "ok",
     "timestamp": 1644863018084,
     "user": {
      "displayName": "Elizabeth Barnes",
      "photoUrl": "https://lh3.googleusercontent.com/a-/AOh14GiNPVVIWP6XAkP_hwu-8rAxoeeNuk2BMkX5-yuA=s64",
      "userId": "07585723222468022011"
     },
     "user_tz": 420
    },
    "id": "YQUUpem1c3tt",
    "outputId": "078be430-92e9-4a17-8592-0fb1bf1a7885"
   },
   "outputs": [
    {
     "name": "stdout",
     "output_type": "stream",
     "text": [
      "IN_COLAB = False\n"
     ]
    }
   ],
   "source": [
    "try:\n",
    "    import google.colab\n",
    "    IN_COLAB = True\n",
    "except:\n",
    "    IN_COLAB = False\n",
    "print('IN_COLAB = ' + str(IN_COLAB))"
   ]
  },
  {
   "cell_type": "code",
   "execution_count": 2,
   "metadata": {
    "executionInfo": {
     "elapsed": 36,
     "status": "ok",
     "timestamp": 1644863018210,
     "user": {
      "displayName": "Elizabeth Barnes",
      "photoUrl": "https://lh3.googleusercontent.com/a-/AOh14GiNPVVIWP6XAkP_hwu-8rAxoeeNuk2BMkX5-yuA=s64",
      "userId": "07585723222468022011"
     },
     "user_tz": 420
    },
    "id": "TLuuXcBoA5TN"
   },
   "outputs": [],
   "source": [
    "import sys\n",
    "import numpy as np\n",
    "import matplotlib.pyplot as plt\n",
    "\n",
    "import pandas as pd\n",
    "import datetime\n",
    "import sklearn\n",
    "from sklearn.model_selection import train_test_split\n",
    "from sklearn.ensemble import RandomForestClassifier\n",
    "from sklearn.tree import DecisionTreeClassifier\n",
    "from sklearn.tree import export_graphviz\n",
    "from sklearn.inspection import permutation_importance\n",
    "import pydot\n",
    "import matplotlib.pyplot as plt\n",
    "# %matplotlib inline"
   ]
  },
  {
   "cell_type": "code",
   "execution_count": 3,
   "metadata": {
    "colab": {
     "base_uri": "https://localhost:8080/"
    },
    "executionInfo": {
     "elapsed": 136,
     "status": "ok",
     "timestamp": 1644863018310,
     "user": {
      "displayName": "Elizabeth Barnes",
      "photoUrl": "https://lh3.googleusercontent.com/a-/AOh14GiNPVVIWP6XAkP_hwu-8rAxoeeNuk2BMkX5-yuA=s64",
      "userId": "07585723222468022011"
     },
     "user_tz": 420
    },
    "id": "tO0J_hp2NGIn",
    "outputId": "11ca730b-2a24-4dac-bb94-d3a99dad2590"
   },
   "outputs": [
    {
     "name": "stdout",
     "output_type": "stream",
     "text": [
      "python version = 3.7.11 (default, Jul 27 2021, 07:03:16) \n",
      "[Clang 10.0.0 ]\n",
      "numpy version = 1.21.5\n",
      "scikit-learn version = 1.0.2\n"
     ]
    }
   ],
   "source": [
    "print(f\"python version = {sys.version}\")\n",
    "print(f\"numpy version = {np.__version__}\")\n",
    "print(f\"scikit-learn version = {sklearn.__version__}\")  "
   ]
  },
  {
   "cell_type": "code",
   "execution_count": 4,
   "metadata": {
    "executionInfo": {
     "elapsed": 1540,
     "status": "ok",
     "timestamp": 1644863019831,
     "user": {
      "displayName": "Elizabeth Barnes",
      "photoUrl": "https://lh3.googleusercontent.com/a-/AOh14GiNPVVIWP6XAkP_hwu-8rAxoeeNuk2BMkX5-yuA=s64",
      "userId": "07585723222468022011"
     },
     "user_tz": 420
    },
    "id": "tMfu0LxrVBuL"
   },
   "outputs": [],
   "source": [
    "if(IN_COLAB==True):\n",
    "    try:\n",
    "        from google.colab import drive\n",
    "        drive.mount('/content/drive', force_remount=True)\n",
    "        local_path = '/content/drive/My Drive/Colab Notebooks/'\n",
    "    except:\n",
    "        local_path = './'\n",
    "else:\n",
    "    local_path = '../figures/'"
   ]
  },
  {
   "cell_type": "markdown",
   "metadata": {
    "id": "pq0ubEIlhJ4Y"
   },
   "source": [
    "# 1. Data Preparation"
   ]
  },
  {
   "cell_type": "markdown",
   "metadata": {
    "id": "8TV70rZ43-A6"
   },
   "source": [
    "### 1.1 Data overview"
   ]
  },
  {
   "cell_type": "markdown",
   "metadata": {
    "id": "e_adDXBpYzKN"
   },
   "source": [
    "We have stored a .csv file on a CSU drive, accessible via URL. This will be the basis for our tutorial. This file contains Fort Collins weather data from 2020, and we will use these data to predict the high temperature for a given day with a random forest regression model.  "
   ]
  },
  {
   "cell_type": "code",
   "execution_count": 5,
   "metadata": {
    "colab": {
     "base_uri": "https://localhost:8080/",
     "height": 423
    },
    "executionInfo": {
     "elapsed": 227,
     "status": "ok",
     "timestamp": 1644863020038,
     "user": {
      "displayName": "Elizabeth Barnes",
      "photoUrl": "https://lh3.googleusercontent.com/a-/AOh14GiNPVVIWP6XAkP_hwu-8rAxoeeNuk2BMkX5-yuA=s64",
      "userId": "07585723222468022011"
     },
     "user_tz": 420
    },
    "id": "PlulN6WnZ_K8",
    "outputId": "68fce9f1-e432-43ae-d2a6-15bac46937be"
   },
   "outputs": [
    {
     "data": {
      "text/html": [
       "<div>\n",
       "<style scoped>\n",
       "    .dataframe tbody tr th:only-of-type {\n",
       "        vertical-align: middle;\n",
       "    }\n",
       "\n",
       "    .dataframe tbody tr th {\n",
       "        vertical-align: top;\n",
       "    }\n",
       "\n",
       "    .dataframe thead th {\n",
       "        text-align: right;\n",
       "    }\n",
       "</style>\n",
       "<table border=\"1\" class=\"dataframe\">\n",
       "  <thead>\n",
       "    <tr style=\"text-align: right;\">\n",
       "      <th></th>\n",
       "      <th>Date</th>\n",
       "      <th>Temp [C]</th>\n",
       "      <th>RH [%]</th>\n",
       "      <th>DewPt [C]</th>\n",
       "      <th>Wind [m/s]</th>\n",
       "      <th>WindDir [deg. N]</th>\n",
       "      <th>Gust [m/s]</th>\n",
       "      <th>GustDir [deg. N]</th>\n",
       "      <th>Pressure [hPa]</th>\n",
       "      <th>Solar [W/m^2[</th>\n",
       "      <th>Precip [mm]</th>\n",
       "      <th>dayofyear</th>\n",
       "    </tr>\n",
       "  </thead>\n",
       "  <tbody>\n",
       "    <tr>\n",
       "      <th>8586</th>\n",
       "      <td>2020-01-01</td>\n",
       "      <td>-2.170</td>\n",
       "      <td>62.76</td>\n",
       "      <td>-8.315162</td>\n",
       "      <td>0.700</td>\n",
       "      <td>7</td>\n",
       "      <td>2.136</td>\n",
       "      <td>222</td>\n",
       "      <td>832.583</td>\n",
       "      <td>0.000</td>\n",
       "      <td>0.0</td>\n",
       "      <td>1</td>\n",
       "    </tr>\n",
       "    <tr>\n",
       "      <th>8585</th>\n",
       "      <td>2020-01-01</td>\n",
       "      <td>-2.304</td>\n",
       "      <td>59.01</td>\n",
       "      <td>-9.230945</td>\n",
       "      <td>1.295</td>\n",
       "      <td>191</td>\n",
       "      <td>3.724</td>\n",
       "      <td>191</td>\n",
       "      <td>831.717</td>\n",
       "      <td>0.000</td>\n",
       "      <td>0.0</td>\n",
       "      <td>1</td>\n",
       "    </tr>\n",
       "    <tr>\n",
       "      <th>8584</th>\n",
       "      <td>2020-01-01</td>\n",
       "      <td>-2.584</td>\n",
       "      <td>56.78</td>\n",
       "      <td>-9.984343</td>\n",
       "      <td>1.169</td>\n",
       "      <td>231</td>\n",
       "      <td>3.998</td>\n",
       "      <td>187</td>\n",
       "      <td>830.682</td>\n",
       "      <td>0.000</td>\n",
       "      <td>0.0</td>\n",
       "      <td>1</td>\n",
       "    </tr>\n",
       "    <tr>\n",
       "      <th>8583</th>\n",
       "      <td>2020-01-01</td>\n",
       "      <td>-3.807</td>\n",
       "      <td>67.52</td>\n",
       "      <td>-8.939013</td>\n",
       "      <td>0.744</td>\n",
       "      <td>145</td>\n",
       "      <td>3.567</td>\n",
       "      <td>260</td>\n",
       "      <td>829.882</td>\n",
       "      <td>0.028</td>\n",
       "      <td>0.0</td>\n",
       "      <td>1</td>\n",
       "    </tr>\n",
       "    <tr>\n",
       "      <th>8582</th>\n",
       "      <td>2020-01-01</td>\n",
       "      <td>-4.464</td>\n",
       "      <td>60.92</td>\n",
       "      <td>-10.869217</td>\n",
       "      <td>0.853</td>\n",
       "      <td>350</td>\n",
       "      <td>2.940</td>\n",
       "      <td>223</td>\n",
       "      <td>829.095</td>\n",
       "      <td>0.015</td>\n",
       "      <td>0.0</td>\n",
       "      <td>1</td>\n",
       "    </tr>\n",
       "    <tr>\n",
       "      <th>...</th>\n",
       "      <td>...</td>\n",
       "      <td>...</td>\n",
       "      <td>...</td>\n",
       "      <td>...</td>\n",
       "      <td>...</td>\n",
       "      <td>...</td>\n",
       "      <td>...</td>\n",
       "      <td>...</td>\n",
       "      <td>...</td>\n",
       "      <td>...</td>\n",
       "      <td>...</td>\n",
       "      <td>...</td>\n",
       "    </tr>\n",
       "    <tr>\n",
       "      <th>4</th>\n",
       "      <td>2020-12-30</td>\n",
       "      <td>-7.118</td>\n",
       "      <td>78.45</td>\n",
       "      <td>-10.228470</td>\n",
       "      <td>0.534</td>\n",
       "      <td>279</td>\n",
       "      <td>1.333</td>\n",
       "      <td>264</td>\n",
       "      <td>0.000</td>\n",
       "      <td>0.017</td>\n",
       "      <td>0.0</td>\n",
       "      <td>365</td>\n",
       "    </tr>\n",
       "    <tr>\n",
       "      <th>3</th>\n",
       "      <td>2020-12-30</td>\n",
       "      <td>-8.140</td>\n",
       "      <td>81.80</td>\n",
       "      <td>-10.698280</td>\n",
       "      <td>0.385</td>\n",
       "      <td>54</td>\n",
       "      <td>1.392</td>\n",
       "      <td>230</td>\n",
       "      <td>0.000</td>\n",
       "      <td>0.017</td>\n",
       "      <td>0.0</td>\n",
       "      <td>365</td>\n",
       "    </tr>\n",
       "    <tr>\n",
       "      <th>2</th>\n",
       "      <td>2020-12-30</td>\n",
       "      <td>-10.010</td>\n",
       "      <td>80.40</td>\n",
       "      <td>-12.741851</td>\n",
       "      <td>0.404</td>\n",
       "      <td>106</td>\n",
       "      <td>1.803</td>\n",
       "      <td>328</td>\n",
       "      <td>825.593</td>\n",
       "      <td>0.068</td>\n",
       "      <td>0.0</td>\n",
       "      <td>365</td>\n",
       "    </tr>\n",
       "    <tr>\n",
       "      <th>1</th>\n",
       "      <td>2020-12-30</td>\n",
       "      <td>-9.990</td>\n",
       "      <td>76.70</td>\n",
       "      <td>-13.304007</td>\n",
       "      <td>0.591</td>\n",
       "      <td>8</td>\n",
       "      <td>2.156</td>\n",
       "      <td>336</td>\n",
       "      <td>830.078</td>\n",
       "      <td>0.040</td>\n",
       "      <td>0.0</td>\n",
       "      <td>365</td>\n",
       "    </tr>\n",
       "    <tr>\n",
       "      <th>0</th>\n",
       "      <td>2020-12-30</td>\n",
       "      <td>-9.500</td>\n",
       "      <td>75.48</td>\n",
       "      <td>-13.025948</td>\n",
       "      <td>0.843</td>\n",
       "      <td>306</td>\n",
       "      <td>2.842</td>\n",
       "      <td>321</td>\n",
       "      <td>828.233</td>\n",
       "      <td>0.038</td>\n",
       "      <td>0.0</td>\n",
       "      <td>365</td>\n",
       "    </tr>\n",
       "  </tbody>\n",
       "</table>\n",
       "<p>8587 rows × 12 columns</p>\n",
       "</div>"
      ],
      "text/plain": [
       "           Date  Temp [C]  RH [%]  DewPt [C]  Wind [m/s]  WindDir [deg. N]  \\\n",
       "8586 2020-01-01    -2.170   62.76  -8.315162       0.700                 7   \n",
       "8585 2020-01-01    -2.304   59.01  -9.230945       1.295               191   \n",
       "8584 2020-01-01    -2.584   56.78  -9.984343       1.169               231   \n",
       "8583 2020-01-01    -3.807   67.52  -8.939013       0.744               145   \n",
       "8582 2020-01-01    -4.464   60.92 -10.869217       0.853               350   \n",
       "...         ...       ...     ...        ...         ...               ...   \n",
       "4    2020-12-30    -7.118   78.45 -10.228470       0.534               279   \n",
       "3    2020-12-30    -8.140   81.80 -10.698280       0.385                54   \n",
       "2    2020-12-30   -10.010   80.40 -12.741851       0.404               106   \n",
       "1    2020-12-30    -9.990   76.70 -13.304007       0.591                 8   \n",
       "0    2020-12-30    -9.500   75.48 -13.025948       0.843               306   \n",
       "\n",
       "      Gust [m/s]  GustDir [deg. N]  Pressure [hPa]  Solar [W/m^2[  \\\n",
       "8586       2.136               222         832.583          0.000   \n",
       "8585       3.724               191         831.717          0.000   \n",
       "8584       3.998               187         830.682          0.000   \n",
       "8583       3.567               260         829.882          0.028   \n",
       "8582       2.940               223         829.095          0.015   \n",
       "...          ...               ...             ...            ...   \n",
       "4          1.333               264           0.000          0.017   \n",
       "3          1.392               230           0.000          0.017   \n",
       "2          1.803               328         825.593          0.068   \n",
       "1          2.156               336         830.078          0.040   \n",
       "0          2.842               321         828.233          0.038   \n",
       "\n",
       "      Precip [mm]  dayofyear  \n",
       "8586          0.0          1  \n",
       "8585          0.0          1  \n",
       "8584          0.0          1  \n",
       "8583          0.0          1  \n",
       "8582          0.0          1  \n",
       "...           ...        ...  \n",
       "4             0.0        365  \n",
       "3             0.0        365  \n",
       "2             0.0        365  \n",
       "1             0.0        365  \n",
       "0             0.0        365  \n",
       "\n",
       "[8587 rows x 12 columns]"
      ]
     },
     "execution_count": 5,
     "metadata": {},
     "output_type": "execute_result"
    }
   ],
   "source": [
    "# Read in data from url\n",
    "url = \"https://raw.githubusercontent.com/eabarnes1010/course_ml_ats/main/data/fccwx_data_2020.csv\"\n",
    "data = pd.read_csv(url,parse_dates=[\"Date\"],infer_datetime_format=True)\n",
    "data['dayofyear'] = data['Date'].dt.dayofyear\n",
    "data.reindex(index=data.index[::-1])"
   ]
  },
  {
   "cell_type": "markdown",
   "metadata": {
    "id": "OqVhzCoFB2wx"
   },
   "source": [
    "Lets look at our data to see what we are working with"
   ]
  },
  {
   "cell_type": "code",
   "execution_count": 6,
   "metadata": {
    "colab": {
     "base_uri": "https://localhost:8080/"
    },
    "executionInfo": {
     "elapsed": 280,
     "status": "ok",
     "timestamp": 1644863020261,
     "user": {
      "displayName": "Elizabeth Barnes",
      "photoUrl": "https://lh3.googleusercontent.com/a-/AOh14GiNPVVIWP6XAkP_hwu-8rAxoeeNuk2BMkX5-yuA=s64",
      "userId": "07585723222468022011"
     },
     "user_tz": 420
    },
    "id": "ibJ9lUMQB8le",
    "outputId": "e04704d0-0626-4ade-9278-078c86e7aa9d"
   },
   "outputs": [
    {
     "name": "stdout",
     "output_type": "stream",
     "text": [
      "The shape of our features is: (8587, 12)\n"
     ]
    }
   ],
   "source": [
    "# Display first 5 rows\n",
    "print('The shape of our features is:', data.shape)"
   ]
  },
  {
   "cell_type": "code",
   "execution_count": 7,
   "metadata": {
    "colab": {
     "base_uri": "https://localhost:8080/",
     "height": 300
    },
    "executionInfo": {
     "elapsed": 56,
     "status": "ok",
     "timestamp": 1644863020261,
     "user": {
      "displayName": "Elizabeth Barnes",
      "photoUrl": "https://lh3.googleusercontent.com/a-/AOh14GiNPVVIWP6XAkP_hwu-8rAxoeeNuk2BMkX5-yuA=s64",
      "userId": "07585723222468022011"
     },
     "user_tz": 420
    },
    "id": "yZSlkf1u2ZyU",
    "outputId": "5b64938a-9f83-4c85-b477-6df307a0c0d9"
   },
   "outputs": [
    {
     "data": {
      "text/html": [
       "<div>\n",
       "<style scoped>\n",
       "    .dataframe tbody tr th:only-of-type {\n",
       "        vertical-align: middle;\n",
       "    }\n",
       "\n",
       "    .dataframe tbody tr th {\n",
       "        vertical-align: top;\n",
       "    }\n",
       "\n",
       "    .dataframe thead th {\n",
       "        text-align: right;\n",
       "    }\n",
       "</style>\n",
       "<table border=\"1\" class=\"dataframe\">\n",
       "  <thead>\n",
       "    <tr style=\"text-align: right;\">\n",
       "      <th></th>\n",
       "      <th>Temp [C]</th>\n",
       "      <th>RH [%]</th>\n",
       "      <th>DewPt [C]</th>\n",
       "      <th>Wind [m/s]</th>\n",
       "      <th>WindDir [deg. N]</th>\n",
       "      <th>Gust [m/s]</th>\n",
       "      <th>GustDir [deg. N]</th>\n",
       "      <th>Pressure [hPa]</th>\n",
       "      <th>Solar [W/m^2[</th>\n",
       "      <th>Precip [mm]</th>\n",
       "      <th>dayofyear</th>\n",
       "    </tr>\n",
       "  </thead>\n",
       "  <tbody>\n",
       "    <tr>\n",
       "      <th>count</th>\n",
       "      <td>8587.000000</td>\n",
       "      <td>8587.000000</td>\n",
       "      <td>8587.000000</td>\n",
       "      <td>8587.000000</td>\n",
       "      <td>8587.000000</td>\n",
       "      <td>8587.000000</td>\n",
       "      <td>8587.000000</td>\n",
       "      <td>8587.000000</td>\n",
       "      <td>8587.000000</td>\n",
       "      <td>8587.000000</td>\n",
       "      <td>8587.000000</td>\n",
       "    </tr>\n",
       "    <tr>\n",
       "      <th>mean</th>\n",
       "      <td>9.853770</td>\n",
       "      <td>51.615725</td>\n",
       "      <td>-1.660949</td>\n",
       "      <td>2.617602</td>\n",
       "      <td>202.304064</td>\n",
       "      <td>5.448292</td>\n",
       "      <td>205.797950</td>\n",
       "      <td>638.786884</td>\n",
       "      <td>174.151465</td>\n",
       "      <td>0.025527</td>\n",
       "      <td>182.166764</td>\n",
       "    </tr>\n",
       "    <tr>\n",
       "      <th>std</th>\n",
       "      <td>11.175732</td>\n",
       "      <td>24.028539</td>\n",
       "      <td>7.805753</td>\n",
       "      <td>2.241303</td>\n",
       "      <td>104.342626</td>\n",
       "      <td>4.109189</td>\n",
       "      <td>105.626903</td>\n",
       "      <td>358.531686</td>\n",
       "      <td>251.666787</td>\n",
       "      <td>0.227308</td>\n",
       "      <td>106.252753</td>\n",
       "    </tr>\n",
       "    <tr>\n",
       "      <th>min</th>\n",
       "      <td>-22.760000</td>\n",
       "      <td>4.516000</td>\n",
       "      <td>-24.897700</td>\n",
       "      <td>0.000000</td>\n",
       "      <td>0.000000</td>\n",
       "      <td>0.000000</td>\n",
       "      <td>0.000000</td>\n",
       "      <td>0.000000</td>\n",
       "      <td>0.000000</td>\n",
       "      <td>0.000000</td>\n",
       "      <td>1.000000</td>\n",
       "    </tr>\n",
       "    <tr>\n",
       "      <th>25%</th>\n",
       "      <td>0.959500</td>\n",
       "      <td>31.270000</td>\n",
       "      <td>-7.791443</td>\n",
       "      <td>1.174500</td>\n",
       "      <td>125.000000</td>\n",
       "      <td>2.920000</td>\n",
       "      <td>130.000000</td>\n",
       "      <td>787.782000</td>\n",
       "      <td>0.004000</td>\n",
       "      <td>0.000000</td>\n",
       "      <td>90.000000</td>\n",
       "    </tr>\n",
       "    <tr>\n",
       "      <th>50%</th>\n",
       "      <td>9.450000</td>\n",
       "      <td>50.030000</td>\n",
       "      <td>-2.201700</td>\n",
       "      <td>1.979000</td>\n",
       "      <td>196.000000</td>\n",
       "      <td>4.234000</td>\n",
       "      <td>213.000000</td>\n",
       "      <td>839.103000</td>\n",
       "      <td>8.520000</td>\n",
       "      <td>0.000000</td>\n",
       "      <td>179.000000</td>\n",
       "    </tr>\n",
       "    <tr>\n",
       "      <th>75%</th>\n",
       "      <td>18.355000</td>\n",
       "      <td>70.760000</td>\n",
       "      <td>4.480746</td>\n",
       "      <td>3.218000</td>\n",
       "      <td>302.000000</td>\n",
       "      <td>6.527000</td>\n",
       "      <td>306.000000</td>\n",
       "      <td>843.564000</td>\n",
       "      <td>302.350000</td>\n",
       "      <td>0.000000</td>\n",
       "      <td>276.000000</td>\n",
       "    </tr>\n",
       "    <tr>\n",
       "      <th>max</th>\n",
       "      <td>37.190000</td>\n",
       "      <td>99.600000</td>\n",
       "      <td>18.229760</td>\n",
       "      <td>18.880000</td>\n",
       "      <td>359.000000</td>\n",
       "      <td>123.800000</td>\n",
       "      <td>359.000000</td>\n",
       "      <td>1075.830000</td>\n",
       "      <td>993.000000</td>\n",
       "      <td>6.858000</td>\n",
       "      <td>365.000000</td>\n",
       "    </tr>\n",
       "  </tbody>\n",
       "</table>\n",
       "</div>"
      ],
      "text/plain": [
       "          Temp [C]       RH [%]    DewPt [C]   Wind [m/s]  WindDir [deg. N]  \\\n",
       "count  8587.000000  8587.000000  8587.000000  8587.000000       8587.000000   \n",
       "mean      9.853770    51.615725    -1.660949     2.617602        202.304064   \n",
       "std      11.175732    24.028539     7.805753     2.241303        104.342626   \n",
       "min     -22.760000     4.516000   -24.897700     0.000000          0.000000   \n",
       "25%       0.959500    31.270000    -7.791443     1.174500        125.000000   \n",
       "50%       9.450000    50.030000    -2.201700     1.979000        196.000000   \n",
       "75%      18.355000    70.760000     4.480746     3.218000        302.000000   \n",
       "max      37.190000    99.600000    18.229760    18.880000        359.000000   \n",
       "\n",
       "        Gust [m/s]  GustDir [deg. N]  Pressure [hPa]  Solar [W/m^2[  \\\n",
       "count  8587.000000       8587.000000     8587.000000    8587.000000   \n",
       "mean      5.448292        205.797950      638.786884     174.151465   \n",
       "std       4.109189        105.626903      358.531686     251.666787   \n",
       "min       0.000000          0.000000        0.000000       0.000000   \n",
       "25%       2.920000        130.000000      787.782000       0.004000   \n",
       "50%       4.234000        213.000000      839.103000       8.520000   \n",
       "75%       6.527000        306.000000      843.564000     302.350000   \n",
       "max     123.800000        359.000000     1075.830000     993.000000   \n",
       "\n",
       "       Precip [mm]    dayofyear  \n",
       "count  8587.000000  8587.000000  \n",
       "mean      0.025527   182.166764  \n",
       "std       0.227308   106.252753  \n",
       "min       0.000000     1.000000  \n",
       "25%       0.000000    90.000000  \n",
       "50%       0.000000   179.000000  \n",
       "75%       0.000000   276.000000  \n",
       "max       6.858000   365.000000  "
      ]
     },
     "execution_count": 7,
     "metadata": {},
     "output_type": "execute_result"
    }
   ],
   "source": [
    "# A handy tool in pandas: descriptive statistics for each column\n",
    "data.describe()"
   ]
  },
  {
   "cell_type": "markdown",
   "metadata": {
    "id": "6vLWjiNs4OB7"
   },
   "source": [
    "### 1.2 Targets and features"
   ]
  },
  {
   "cell_type": "markdown",
   "metadata": {
    "id": "WsaFBLnKDPbK"
   },
   "source": [
    "The pandas table is handy for a quick glance, but we need to organize some numpy arrays that separately contain our features and labels."
   ]
  },
  {
   "cell_type": "code",
   "execution_count": 9,
   "metadata": {
    "executionInfo": {
     "elapsed": 56,
     "status": "ok",
     "timestamp": 1644863020262,
     "user": {
      "displayName": "Elizabeth Barnes",
      "photoUrl": "https://lh3.googleusercontent.com/a-/AOh14GiNPVVIWP6XAkP_hwu-8rAxoeeNuk2BMkX5-yuA=s64",
      "userId": "07585723222468022011"
     },
     "user_tz": 420
    },
    "id": "dlt6GqYwhgnV"
   },
   "outputs": [],
   "source": [
    "THRESHOLD_TEMP = 10   # default = 10\n",
    "TARGET_VAR = 'Temp [C]'\n",
    "\n",
    "# Labels are the values we want to predict\n",
    "labels = (data[TARGET_VAR] > THRESHOLD_TEMP).astype(int)\n",
    "label_names = ('cold <' + str(THRESHOLD_TEMP) + 'C', 'warm >' + str(THRESHOLD_TEMP) + 'C')\n",
    "\n",
    "# Remove the labels from the features\n",
    "# axis 1 refers to the columns\n",
    "features = data.drop(TARGET_VAR, axis = 1)\n",
    "\n",
    "# Also remove DewPt and Date\n",
    "features = features.drop('DewPt [C]', axis = 1)   # comment out if you want the prediction task to be easy\n",
    "features = features.drop('Date', axis = 1)\n",
    "\n",
    "# Saving feature names for later use\n",
    "feature_list = list(features.columns)\n",
    "\n",
    "# Convert to numpy array\n",
    "features = np.array(features)"
   ]
  },
  {
   "cell_type": "markdown",
   "metadata": {
    "id": "Xb-lrl7Cbcor"
   },
   "source": [
    "As a best practice for classification tasks, always look at a histograms of your labels prior to moving on."
   ]
  },
  {
   "cell_type": "code",
   "execution_count": 11,
   "metadata": {
    "colab": {
     "base_uri": "https://localhost:8080/",
     "height": 265
    },
    "executionInfo": {
     "elapsed": 561,
     "status": "ok",
     "timestamp": 1644863020767,
     "user": {
      "displayName": "Elizabeth Barnes",
      "photoUrl": "https://lh3.googleusercontent.com/a-/AOh14GiNPVVIWP6XAkP_hwu-8rAxoeeNuk2BMkX5-yuA=s64",
      "userId": "07585723222468022011"
     },
     "user_tz": 420
    },
    "id": "gRxDcrjba3ej",
    "outputId": "e4a8fe79-5f2c-4408-b252-ab400f13f3e1"
   },
   "outputs": [
    {
     "data": {
      "image/png": "[encoded data removed]",
      "text/plain": [
       "<Figure size 432x288 with 1 Axes>"
      ]
     },
     "metadata": {
      "needs_background": "light"
     },
     "output_type": "display_data"
    }
   ],
   "source": [
    "plt.figure()\n",
    "plt.hist(labels)\n",
    "plt.xticks(np.arange(0,len(label_names)),label_names)\n",
    "plt.xlim(-1,3)\n",
    "plt.ylabel('sample count')\n",
    "plt.show()"
   ]
  },
  {
   "cell_type": "markdown",
   "metadata": {
    "id": "8pRuZk-AhjAP"
   },
   "source": [
    "### 1.3 Splitting training and testing datasets"
   ]
  },
  {
   "cell_type": "markdown",
   "metadata": {
    "id": "95YMbR1YDcqT"
   },
   "source": [
    "Assuming we have no feature data available from 2019 we could use to test our trained models against, we will want to split up our dataset into training and testing portions. A standard proportion is 3/4 for training, 1/4 for testing, although this is somewhat arbitrary here. "
   ]
  },
  {
   "cell_type": "code",
   "execution_count": 12,
   "metadata": {
    "executionInfo": {
     "elapsed": 62,
     "status": "ok",
     "timestamp": 1644863020768,
     "user": {
      "displayName": "Elizabeth Barnes",
      "photoUrl": "https://lh3.googleusercontent.com/a-/AOh14GiNPVVIWP6XAkP_hwu-8rAxoeeNuk2BMkX5-yuA=s64",
      "userId": "07585723222468022011"
     },
     "user_tz": 420
    },
    "id": "ggg3rkEphk2N"
   },
   "outputs": [],
   "source": [
    "# Split the data into training and testing sets\n",
    "\n",
    "# Tunable Parameter: Describes the proportion of the dataset we want to use for testing. 1 - split_size is used for training. \n",
    "split_size = 0.25\n",
    "\n",
    "# PARAMETERS:\n",
    "#     test_size: fraction of testing/validation datasets\n",
    "#     random_state: random parameter\n",
    "train_features, val_features, train_labels, val_labels = train_test_split(features, labels, test_size = split_size, random_state = 42)"
   ]
  },
  {
   "cell_type": "markdown",
   "metadata": {
    "id": "SfMNcTlSD7sn"
   },
   "source": [
    "Lets quickly check the size of our training and testing arrays are what we expect (and we didn't do something wrong)"
   ]
  },
  {
   "cell_type": "code",
   "execution_count": 13,
   "metadata": {
    "colab": {
     "base_uri": "https://localhost:8080/"
    },
    "executionInfo": {
     "elapsed": 63,
     "status": "ok",
     "timestamp": 1644863020769,
     "user": {
      "displayName": "Elizabeth Barnes",
      "photoUrl": "https://lh3.googleusercontent.com/a-/AOh14GiNPVVIWP6XAkP_hwu-8rAxoeeNuk2BMkX5-yuA=s64",
      "userId": "07585723222468022011"
     },
     "user_tz": 420
    },
    "id": "ZHsogVIIhm5X",
    "outputId": "407366bc-ef75-4b2f-8a7a-816d54c7d39c"
   },
   "outputs": [
    {
     "name": "stdout",
     "output_type": "stream",
     "text": [
      "Training Features Shape: (6440, 9)\n",
      "Training Labels Shape: (6440,)\n",
      "Validation Features Shape: (2147, 9)\n",
      "Validation Labels Shape: (2147,)\n"
     ]
    }
   ],
   "source": [
    "print('Training Features Shape:', train_features.shape)\n",
    "print('Training Labels Shape:', train_labels.shape)\n",
    "print('Validation Features Shape:', val_features.shape)\n",
    "print('Validation Labels Shape:', val_labels.shape)"
   ]
  },
  {
   "cell_type": "code",
   "execution_count": 15,
   "metadata": {
    "colab": {
     "base_uri": "https://localhost:8080/",
     "height": 283
    },
    "executionInfo": {
     "elapsed": 595,
     "status": "ok",
     "timestamp": 1644863021304,
     "user": {
      "displayName": "Elizabeth Barnes",
      "photoUrl": "https://lh3.googleusercontent.com/a-/AOh14GiNPVVIWP6XAkP_hwu-8rAxoeeNuk2BMkX5-yuA=s64",
      "userId": "07585723222468022011"
     },
     "user_tz": 420
    },
    "id": "a_UYYkShVBuT",
    "outputId": "7e3a09df-33c2-44c9-dccd-ca37104547bf"
   },
   "outputs": [
    {
     "data": {
      "image/png": "[encoded data removed]",
      "text/plain": [
       "<Figure size 432x288 with 1 Axes>"
      ]
     },
     "metadata": {
      "needs_background": "light"
     },
     "output_type": "display_data"
    }
   ],
   "source": [
    "plt.plot(features[:,-1],np.array(data[TARGET_VAR]),'.')\n",
    "plt.axhline(y=THRESHOLD_TEMP,linestyle='--',color='k')\n",
    "plt.xlabel('day of year')\n",
    "plt.ylabel(TARGET_VAR)\n",
    "plt.show()"
   ]
  },
  {
   "cell_type": "markdown",
   "metadata": {
    "id": "PmnUiJhK4pQm"
   },
   "source": [
    "# 2. Creating a decision tree"
   ]
  },
  {
   "cell_type": "markdown",
   "metadata": {
    "id": "MoqMJlGiVBuT"
   },
   "source": [
    "### Train the model and visualize it"
   ]
  },
  {
   "cell_type": "code",
   "execution_count": 18,
   "metadata": {
    "executionInfo": {
     "elapsed": 66,
     "status": "ok",
     "timestamp": 1644863021304,
     "user": {
      "displayName": "Elizabeth Barnes",
      "photoUrl": "https://lh3.googleusercontent.com/a-/AOh14GiNPVVIWP6XAkP_hwu-8rAxoeeNuk2BMkX5-yuA=s64",
      "userId": "07585723222468022011"
     },
     "user_tz": 420
    },
    "id": "iJx8TDwJhvqm"
   },
   "outputs": [
    {
     "data": {
      "text/plain": [
       "DecisionTreeClassifier(max_depth=2, random_state=42)"
      ]
     },
     "execution_count": 18,
     "metadata": {},
     "output_type": "execute_result"
    }
   ],
   "source": [
    "# SINGLE DECISION TREE\n",
    "\n",
    "# Tunable Parameters for Model\n",
    "tree_depth = 2 \n",
    "node_split = 2       # minimum number of training samples needed to split a node\n",
    "leaf_samples = 1     # minimum number of training samples required to make a leaf node\n",
    "RAND_STATE = 42\n",
    "\n",
    "tree_clf = DecisionTreeClassifier(max_depth=tree_depth, \n",
    "                                  min_samples_split=node_split,\n",
    "                                  min_samples_leaf=leaf_samples,\n",
    "                                  random_state=RAND_STATE,\n",
    "                                  criterion='gini',  #can also set to 'entropy'\n",
    "                                 )\n",
    "tree_clf.fit(train_features,train_labels)"
   ]
  },
  {
   "cell_type": "code",
   "execution_count": 19,
   "metadata": {
    "colab": {
     "base_uri": "https://localhost:8080/",
     "height": 1000
    },
    "executionInfo": {
     "elapsed": 568,
     "status": "ok",
     "timestamp": 1644863021809,
     "user": {
      "displayName": "Elizabeth Barnes",
      "photoUrl": "https://lh3.googleusercontent.com/a-/AOh14GiNPVVIWP6XAkP_hwu-8rAxoeeNuk2BMkX5-yuA=s64",
      "userId": "07585723222468022011"
     },
     "user_tz": 420
    },
    "id": "P5rjXWUoVBuU",
    "outputId": "f36d5849-3c89-4619-ed66-c220319814d9"
   },
   "outputs": [
    {
     "data": {
      "image/svg+xml": [
       "<?xml version=\"1.0\" encoding=\"UTF-8\" standalone=\"no\"?>\n",
       "<!DOCTYPE svg PUBLIC \"-//W3C//DTD SVG 1.1//EN\"\n",
       " \"http://www.w3.org/Graphics/SVG/1.1/DTD/svg11.dtd\">\n",
       "<!-- Generated by graphviz version 2.50.0 (20211204.2007)\n",
       " -->\n",
       "<!-- Title: Tree Pages: 1 -->\n",
       "<svg width=\"591pt\" height=\"314pt\"\n",
       " viewBox=\"0.00 0.00 591.00 314.00\" xmlns=\"http://www.w3.org/2000/svg\" xmlns:xlink=\"http://www.w3.org/1999/xlink\">\n",
       "<g id=\"graph0\" class=\"graph\" transform=\"scale(1 1) rotate(0) translate(4 310)\">\n",
       "<title>Tree</title>\n",
       "<polygon fill=\"white\" stroke=\"transparent\" points=\"-4,4 -4,-310 587,-310 587,4 -4,4\"/>\n",
       "<!-- 0 -->\n",
       "<g id=\"node1\" class=\"node\">\n",
       "<title>0</title>\n",
       "<polygon fill=\"#fefaf7\" stroke=\"black\" points=\"360,-306 220,-306 220,-223 360,-223 360,-306\"/>\n",
       "<text text-anchor=\"middle\" x=\"290\" y=\"-290.8\" font-family=\"Helvetica,sans-Serif\" font-size=\"14.00\">dayofyear &lt;= 110.5</text>\n",
       "<text text-anchor=\"middle\" x=\"290\" y=\"-275.8\" font-family=\"Helvetica,sans-Serif\" font-size=\"14.00\">gini = 0.5</text>\n",
       "<text text-anchor=\"middle\" x=\"290\" y=\"-260.8\" font-family=\"Helvetica,sans-Serif\" font-size=\"14.00\">samples = 6440</text>\n",
       "<text text-anchor=\"middle\" x=\"290\" y=\"-245.8\" font-family=\"Helvetica,sans-Serif\" font-size=\"14.00\">value = [3289, 3151]</text>\n",
       "<text text-anchor=\"middle\" x=\"290\" y=\"-230.8\" font-family=\"Helvetica,sans-Serif\" font-size=\"14.00\">class = cold &lt;10C</text>\n",
       "</g>\n",
       "<!-- 1 -->\n",
       "<g id=\"node2\" class=\"node\">\n",
       "<title>1</title>\n",
       "<polygon fill=\"#e99558\" stroke=\"black\" points=\"279,-187 147,-187 147,-104 279,-104 279,-187\"/>\n",
       "<text text-anchor=\"middle\" x=\"213\" y=\"-171.8\" font-family=\"Helvetica,sans-Serif\" font-size=\"14.00\">RH [%] &lt;= 29.975</text>\n",
       "<text text-anchor=\"middle\" x=\"213\" y=\"-156.8\" font-family=\"Helvetica,sans-Serif\" font-size=\"14.00\">gini = 0.235</text>\n",
       "<text text-anchor=\"middle\" x=\"213\" y=\"-141.8\" font-family=\"Helvetica,sans-Serif\" font-size=\"14.00\">samples = 1982</text>\n",
       "<text text-anchor=\"middle\" x=\"213\" y=\"-126.8\" font-family=\"Helvetica,sans-Serif\" font-size=\"14.00\">value = [1713, 269]</text>\n",
       "<text text-anchor=\"middle\" x=\"213\" y=\"-111.8\" font-family=\"Helvetica,sans-Serif\" font-size=\"14.00\">class = cold &lt;10C</text>\n",
       "</g>\n",
       "<!-- 0&#45;&gt;1 -->\n",
       "<g id=\"edge1\" class=\"edge\">\n",
       "<title>0&#45;&gt;1</title>\n",
       "<path fill=\"none\" stroke=\"black\" d=\"M263.29,-222.91C257.49,-214.1 251.3,-204.7 245.32,-195.61\"/>\n",
       "<polygon fill=\"black\" stroke=\"black\" points=\"248.09,-193.45 239.67,-187.02 242.24,-197.3 248.09,-193.45\"/>\n",
       "<text text-anchor=\"middle\" x=\"234.62\" y=\"-207.81\" font-family=\"Helvetica,sans-Serif\" font-size=\"14.00\">True</text>\n",
       "</g>\n",
       "<!-- 4 -->\n",
       "<g id=\"node5\" class=\"node\">\n",
       "<title>4</title>\n",
       "<polygon fill=\"#a5d3f3\" stroke=\"black\" points=\"437,-187 297,-187 297,-104 437,-104 437,-187\"/>\n",
       "<text text-anchor=\"middle\" x=\"367\" y=\"-171.8\" font-family=\"Helvetica,sans-Serif\" font-size=\"14.00\">dayofyear &lt;= 288.5</text>\n",
       "<text text-anchor=\"middle\" x=\"367\" y=\"-156.8\" font-family=\"Helvetica,sans-Serif\" font-size=\"14.00\">gini = 0.457</text>\n",
       "<text text-anchor=\"middle\" x=\"367\" y=\"-141.8\" font-family=\"Helvetica,sans-Serif\" font-size=\"14.00\">samples = 4458</text>\n",
       "<text text-anchor=\"middle\" x=\"367\" y=\"-126.8\" font-family=\"Helvetica,sans-Serif\" font-size=\"14.00\">value = [1576, 2882]</text>\n",
       "<text text-anchor=\"middle\" x=\"367\" y=\"-111.8\" font-family=\"Helvetica,sans-Serif\" font-size=\"14.00\">class = warm &gt;10C</text>\n",
       "</g>\n",
       "<!-- 0&#45;&gt;4 -->\n",
       "<g id=\"edge4\" class=\"edge\">\n",
       "<title>0&#45;&gt;4</title>\n",
       "<path fill=\"none\" stroke=\"black\" d=\"M316.71,-222.91C322.51,-214.1 328.7,-204.7 334.68,-195.61\"/>\n",
       "<polygon fill=\"black\" stroke=\"black\" points=\"337.76,-197.3 340.33,-187.02 331.91,-193.45 337.76,-197.3\"/>\n",
       "<text text-anchor=\"middle\" x=\"345.38\" y=\"-207.81\" font-family=\"Helvetica,sans-Serif\" font-size=\"14.00\">False</text>\n",
       "</g>\n",
       "<!-- 2 -->\n",
       "<g id=\"node3\" class=\"node\">\n",
       "<title>2</title>\n",
       "<polygon fill=\"#aad5f4\" stroke=\"black\" points=\"134,-68 0,-68 0,0 134,0 134,-68\"/>\n",
       "<text text-anchor=\"middle\" x=\"67\" y=\"-52.8\" font-family=\"Helvetica,sans-Serif\" font-size=\"14.00\">gini = 0.463</text>\n",
       "<text text-anchor=\"middle\" x=\"67\" y=\"-37.8\" font-family=\"Helvetica,sans-Serif\" font-size=\"14.00\">samples = 324</text>\n",
       "<text text-anchor=\"middle\" x=\"67\" y=\"-22.8\" font-family=\"Helvetica,sans-Serif\" font-size=\"14.00\">value = [118, 206]</text>\n",
       "<text text-anchor=\"middle\" x=\"67\" y=\"-7.8\" font-family=\"Helvetica,sans-Serif\" font-size=\"14.00\">class = warm &gt;10C</text>\n",
       "</g>\n",
       "<!-- 1&#45;&gt;2 -->\n",
       "<g id=\"edge2\" class=\"edge\">\n",
       "<title>1&#45;&gt;2</title>\n",
       "<path fill=\"none\" stroke=\"black\" d=\"M158.63,-103.73C145.87,-94.15 132.28,-83.96 119.59,-74.44\"/>\n",
       "<polygon fill=\"black\" stroke=\"black\" points=\"121.5,-71.5 111.4,-68.3 117.3,-77.1 121.5,-71.5\"/>\n",
       "</g>\n",
       "<!-- 3 -->\n",
       "<g id=\"node4\" class=\"node\">\n",
       "<title>3</title>\n",
       "<polygon fill=\"#e68641\" stroke=\"black\" points=\"277.5,-68 152.5,-68 152.5,0 277.5,0 277.5,-68\"/>\n",
       "<text text-anchor=\"middle\" x=\"215\" y=\"-52.8\" font-family=\"Helvetica,sans-Serif\" font-size=\"14.00\">gini = 0.073</text>\n",
       "<text text-anchor=\"middle\" x=\"215\" y=\"-37.8\" font-family=\"Helvetica,sans-Serif\" font-size=\"14.00\">samples = 1658</text>\n",
       "<text text-anchor=\"middle\" x=\"215\" y=\"-22.8\" font-family=\"Helvetica,sans-Serif\" font-size=\"14.00\">value = [1595, 63]</text>\n",
       "<text text-anchor=\"middle\" x=\"215\" y=\"-7.8\" font-family=\"Helvetica,sans-Serif\" font-size=\"14.00\">class = cold &lt;10C</text>\n",
       "</g>\n",
       "<!-- 1&#45;&gt;3 -->\n",
       "<g id=\"edge3\" class=\"edge\">\n",
       "<title>1&#45;&gt;3</title>\n",
       "<path fill=\"none\" stroke=\"black\" d=\"M213.74,-103.73C213.89,-95.52 214.05,-86.86 214.2,-78.56\"/>\n",
       "<polygon fill=\"black\" stroke=\"black\" points=\"217.71,-78.36 214.39,-68.3 210.71,-78.23 217.71,-78.36\"/>\n",
       "</g>\n",
       "<!-- 5 -->\n",
       "<g id=\"node6\" class=\"node\">\n",
       "<title>5</title>\n",
       "<polygon fill=\"#5dafea\" stroke=\"black\" points=\"433,-68 299,-68 299,0 433,0 433,-68\"/>\n",
       "<text text-anchor=\"middle\" x=\"366\" y=\"-52.8\" font-family=\"Helvetica,sans-Serif\" font-size=\"14.00\">gini = 0.261</text>\n",
       "<text text-anchor=\"middle\" x=\"366\" y=\"-37.8\" font-family=\"Helvetica,sans-Serif\" font-size=\"14.00\">samples = 3112</text>\n",
       "<text text-anchor=\"middle\" x=\"366\" y=\"-22.8\" font-family=\"Helvetica,sans-Serif\" font-size=\"14.00\">value = [481, 2631]</text>\n",
       "<text text-anchor=\"middle\" x=\"366\" y=\"-7.8\" font-family=\"Helvetica,sans-Serif\" font-size=\"14.00\">class = warm &gt;10C</text>\n",
       "</g>\n",
       "<!-- 4&#45;&gt;5 -->\n",
       "<g id=\"edge5\" class=\"edge\">\n",
       "<title>4&#45;&gt;5</title>\n",
       "<path fill=\"none\" stroke=\"black\" d=\"M366.63,-103.73C366.55,-95.52 366.47,-86.86 366.4,-78.56\"/>\n",
       "<polygon fill=\"black\" stroke=\"black\" points=\"369.9,-78.27 366.3,-68.3 362.9,-78.33 369.9,-78.27\"/>\n",
       "</g>\n",
       "<!-- 6 -->\n",
       "<g id=\"node7\" class=\"node\">\n",
       "<title>6</title>\n",
       "<polygon fill=\"#eb9e66\" stroke=\"black\" points=\"583,-68 451,-68 451,0 583,0 583,-68\"/>\n",
       "<text text-anchor=\"middle\" x=\"517\" y=\"-52.8\" font-family=\"Helvetica,sans-Serif\" font-size=\"14.00\">gini = 0.303</text>\n",
       "<text text-anchor=\"middle\" x=\"517\" y=\"-37.8\" font-family=\"Helvetica,sans-Serif\" font-size=\"14.00\">samples = 1346</text>\n",
       "<text text-anchor=\"middle\" x=\"517\" y=\"-22.8\" font-family=\"Helvetica,sans-Serif\" font-size=\"14.00\">value = [1095, 251]</text>\n",
       "<text text-anchor=\"middle\" x=\"517\" y=\"-7.8\" font-family=\"Helvetica,sans-Serif\" font-size=\"14.00\">class = cold &lt;10C</text>\n",
       "</g>\n",
       "<!-- 4&#45;&gt;6 -->\n",
       "<g id=\"edge6\" class=\"edge\">\n",
       "<title>4&#45;&gt;6</title>\n",
       "<path fill=\"none\" stroke=\"black\" d=\"M422.85,-103.73C435.97,-94.15 449.93,-83.96 462.97,-74.44\"/>\n",
       "<polygon fill=\"black\" stroke=\"black\" points=\"465.37,-77.02 471.38,-68.3 461.24,-71.37 465.37,-77.02\"/>\n",
       "</g>\n",
       "</g>\n",
       "</svg>\n"
      ],
      "text/plain": [
       "<graphviz.sources.Source at 0x7fc1a0339950>"
      ]
     },
     "execution_count": 19,
     "metadata": {},
     "output_type": "execute_result"
    }
   ],
   "source": [
    "from graphviz import Source\n",
    "fig_savename = 'tree_classifier_christman'\n",
    "\n",
    "if(len(np.shape(tree_clf))!=0):\n",
    "    tree_to_viz = tree_clf[0] # this line sets which decision tree out of your RF you want to plot\n",
    "else:\n",
    "    tree_to_viz = tree_clf\n",
    "export_graphviz(tree_to_viz,\n",
    "                out_file=local_path + fig_savename+'.dot',\n",
    "                filled=True,\n",
    "                proportion=False,\n",
    "                leaves_parallel=False,\n",
    "                class_names=label_names,\n",
    "                feature_names=feature_list)\n",
    "Source.from_file(local_path + fig_savename+'.dot')"
   ]
  },
  {
   "cell_type": "markdown",
   "metadata": {
    "id": "S0_gSkHrhySe"
   },
   "source": [
    "### Make predictions"
   ]
  },
  {
   "cell_type": "code",
   "execution_count": 20,
   "metadata": {
    "colab": {
     "base_uri": "https://localhost:8080/"
    },
    "executionInfo": {
     "elapsed": 64,
     "status": "ok",
     "timestamp": 1644863021810,
     "user": {
      "displayName": "Elizabeth Barnes",
      "photoUrl": "https://lh3.googleusercontent.com/a-/AOh14GiNPVVIWP6XAkP_hwu-8rAxoeeNuk2BMkX5-yuA=s64",
      "userId": "07585723222468022011"
     },
     "user_tz": 420
    },
    "id": "nj7-Y8xShz3C",
    "outputId": "11bd0ecb-711c-4d93-922b-e7df130bfafb"
   },
   "outputs": [
    {
     "data": {
      "text/plain": [
       "array([1, 0, 1, ..., 1, 0, 0])"
      ]
     },
     "execution_count": 20,
     "metadata": {},
     "output_type": "execute_result"
    }
   ],
   "source": [
    "y_pred_train = tree_clf.predict(train_features)\n",
    "y_pred_val = tree_clf.predict(val_features)\n",
    "y_pred_val"
   ]
  },
  {
   "cell_type": "code",
   "execution_count": 21,
   "metadata": {
    "colab": {
     "base_uri": "https://localhost:8080/"
    },
    "executionInfo": {
     "elapsed": 63,
     "status": "ok",
     "timestamp": 1644863021810,
     "user": {
      "displayName": "Elizabeth Barnes",
      "photoUrl": "https://lh3.googleusercontent.com/a-/AOh14GiNPVVIWP6XAkP_hwu-8rAxoeeNuk2BMkX5-yuA=s64",
      "userId": "07585723222468022011"
     },
     "user_tz": 420
    },
    "id": "dNfRvrsnVBuV",
    "outputId": "cda4a265-6b1e-4166-a0f1-6814dcf4aa2e"
   },
   "outputs": [
    {
     "data": {
      "text/plain": [
       "array([[0.15456298, 0.84543702],\n",
       "       [0.81352155, 0.18647845],\n",
       "       [0.15456298, 0.84543702],\n",
       "       [0.81352155, 0.18647845],\n",
       "       [0.96200241, 0.03799759]])"
      ]
     },
     "execution_count": 21,
     "metadata": {},
     "output_type": "execute_result"
    }
   ],
   "source": [
    "tree_clf.predict_proba(val_features)[:5]"
   ]
  },
  {
   "cell_type": "markdown",
   "metadata": {
    "id": "zEEvFIRYiRG7"
   },
   "source": [
    "### Visualization of predictions"
   ]
  },
  {
   "cell_type": "code",
   "execution_count": 22,
   "metadata": {
    "colab": {
     "base_uri": "https://localhost:8080/"
    },
    "executionInfo": {
     "elapsed": 62,
     "status": "ok",
     "timestamp": 1644863021811,
     "user": {
      "displayName": "Elizabeth Barnes",
      "photoUrl": "https://lh3.googleusercontent.com/a-/AOh14GiNPVVIWP6XAkP_hwu-8rAxoeeNuk2BMkX5-yuA=s64",
      "userId": "07585723222468022011"
     },
     "user_tz": 420
    },
    "id": "KTXwhWYQVBuV",
    "outputId": "a3c7e612-80d7-48c3-d2be-4c71057de8e2"
   },
   "outputs": [
    {
     "data": {
      "text/plain": [
       "(2147, 9)"
      ]
     },
     "execution_count": 22,
     "metadata": {},
     "output_type": "execute_result"
    }
   ],
   "source": [
    "val_features.shape"
   ]
  },
  {
   "cell_type": "code",
   "execution_count": 24,
   "metadata": {
    "colab": {
     "base_uri": "https://localhost:8080/",
     "height": 295
    },
    "executionInfo": {
     "elapsed": 61,
     "status": "ok",
     "timestamp": 1644863021811,
     "user": {
      "displayName": "Elizabeth Barnes",
      "photoUrl": "https://lh3.googleusercontent.com/a-/AOh14GiNPVVIWP6XAkP_hwu-8rAxoeeNuk2BMkX5-yuA=s64",
      "userId": "07585723222468022011"
     },
     "user_tz": 420
    },
    "id": "Y0TKjxzDVBuV",
    "outputId": "8cb3f786-8dd5-4f3c-a7cb-c87a6d674193"
   },
   "outputs": [
    {
     "data": {
      "image/png": "[encoded data removed]",
      "text/plain": [
       "<Figure size 432x288 with 2 Axes>"
      ]
     },
     "metadata": {
      "needs_background": "light"
     },
     "output_type": "display_data"
    }
   ],
   "source": [
    "fig, ax1 = plt.subplots()\n",
    "ax2 = ax1.twinx()\n",
    "\n",
    "ax1.plot(features[:,-1],np.array(data[TARGET_VAR]),'.')\n",
    "ax1.set_xlabel('day of year')\n",
    "ax1.set_ylabel(TARGET_VAR)\n",
    "\n",
    "ax2.plot(train_features[:,-1],y_pred_train,'.r')\n",
    "ax2.set_yticks(np.arange(0,len(label_names)))\n",
    "ax2.set_yticklabels(label_names, color='r')\n",
    "ax2.set_ylabel('RF prediction',color='r')\n",
    "\n",
    "plt.title('Training Predictions')\n",
    "plt.show()\n"
   ]
  },
  {
   "cell_type": "code",
   "execution_count": 25,
   "metadata": {
    "colab": {
     "base_uri": "https://localhost:8080/",
     "height": 295
    },
    "executionInfo": {
     "elapsed": 614,
     "status": "ok",
     "timestamp": 1644863022365,
     "user": {
      "displayName": "Elizabeth Barnes",
      "photoUrl": "https://lh3.googleusercontent.com/a-/AOh14GiNPVVIWP6XAkP_hwu-8rAxoeeNuk2BMkX5-yuA=s64",
      "userId": "07585723222468022011"
     },
     "user_tz": 420
    },
    "id": "-JSzI7cgc92n",
    "outputId": "12bac5c5-9459-4f7f-f7d2-7b6e437afdd7"
   },
   "outputs": [
    {
     "data": {
      "image/png": "[encoded data removed]",
      "text/plain": [
       "<Figure size 432x288 with 2 Axes>"
      ]
     },
     "metadata": {
      "needs_background": "light"
     },
     "output_type": "display_data"
    }
   ],
   "source": [
    "fig, ax1 = plt.subplots()\n",
    "ax2 = ax1.twinx()\n",
    "\n",
    "ax1.plot(features[:,-1],np.array(data[TARGET_VAR]),'.')\n",
    "ax1.set_xlabel('day of year')\n",
    "ax1.set_ylabel(TARGET_VAR)\n",
    "\n",
    "ax2.plot(val_features[:,-1],y_pred_val,'.r')\n",
    "ax2.set_yticks(np.arange(0,len(label_names)))\n",
    "ax2.set_yticklabels(label_names, color='r')\n",
    "ax2.set_ylabel('RF prediction',color='r')\n",
    "\n",
    "plt.title('Validation Predictions')\n",
    "plt.show()"
   ]
  },
  {
   "cell_type": "markdown",
   "metadata": {
    "id": "ykoWXlp6VBuW"
   },
   "source": [
    "### Evaluate the classification predictions"
   ]
  },
  {
   "cell_type": "code",
   "execution_count": 26,
   "metadata": {
    "executionInfo": {
     "elapsed": 70,
     "status": "ok",
     "timestamp": 1644863022366,
     "user": {
      "displayName": "Elizabeth Barnes",
      "photoUrl": "https://lh3.googleusercontent.com/a-/AOh14GiNPVVIWP6XAkP_hwu-8rAxoeeNuk2BMkX5-yuA=s64",
      "userId": "07585723222468022011"
     },
     "user_tz": 420
    },
    "id": "2XFOa431VBuW"
   },
   "outputs": [],
   "source": [
    "from sklearn.metrics import roc_auc_score\n",
    "from sklearn.metrics import roc_curve"
   ]
  },
  {
   "cell_type": "code",
   "execution_count": 27,
   "metadata": {
    "executionInfo": {
     "elapsed": 70,
     "status": "ok",
     "timestamp": 1644863022366,
     "user": {
      "displayName": "Elizabeth Barnes",
      "photoUrl": "https://lh3.googleusercontent.com/a-/AOh14GiNPVVIWP6XAkP_hwu-8rAxoeeNuk2BMkX5-yuA=s64",
      "userId": "07585723222468022011"
     },
     "user_tz": 420
    },
    "id": "dgqujcGFVBuW"
   },
   "outputs": [],
   "source": [
    "y_probs = tree_clf.predict_proba(val_features)\n",
    "y_scores = y_probs[:,1]\n",
    "fpr_tree, tpr_tree, thresholds_tree = roc_curve(val_labels,y_scores)\n",
    "auc_tree = roc_auc_score(val_labels,y_scores)"
   ]
  },
  {
   "cell_type": "code",
   "execution_count": 28,
   "metadata": {
    "executionInfo": {
     "elapsed": 70,
     "status": "ok",
     "timestamp": 1644863022367,
     "user": {
      "displayName": "Elizabeth Barnes",
      "photoUrl": "https://lh3.googleusercontent.com/a-/AOh14GiNPVVIWP6XAkP_hwu-8rAxoeeNuk2BMkX5-yuA=s64",
      "userId": "07585723222468022011"
     },
     "user_tz": 420
    },
    "id": "yHGCxJX7VBuW"
   },
   "outputs": [
    {
     "data": {
      "image/png": "[encoded data removed]",
      "text/plain": [
       "<Figure size 576x432 with 1 Axes>"
      ]
     },
     "metadata": {
      "needs_background": "light"
     },
     "output_type": "display_data"
    }
   ],
   "source": [
    "def plot_roc_curve(fpr, tpr, label=None):\n",
    "    plt.plot(fpr, tpr, linewidth=2, label=label)\n",
    "    plt.plot([0, 1], [0, 1], 'k--') # dashed diagonal\n",
    "    plt.axis([0, 1.01, 0, 1.01])                                    # Not shown in the book\n",
    "    plt.xlabel('False Positive Rate (Fall-Out)', fontsize=16) # Not shown\n",
    "    plt.ylabel('True Positive Rate (Recall)', fontsize=16)    # Not shown\n",
    "    plt.grid(True)                                            # Not shown\n",
    "    \n",
    "plt.figure(figsize=(8, 6))\n",
    "plot_roc_curve(fpr_tree, tpr_tree, \"Decision Tree\")\n",
    "plt.title('AUC = ' + str(auc_tree))\n",
    "plt.grid(True)\n",
    "plt.legend(loc=\"lower right\", fontsize=16)\n",
    "plt.show()"
   ]
  },
  {
   "cell_type": "code",
   "execution_count": 29,
   "metadata": {
    "colab": {
     "base_uri": "https://localhost:8080/",
     "height": 384
    },
    "executionInfo": {
     "elapsed": 436,
     "status": "ok",
     "timestamp": 1644863022733,
     "user": {
      "displayName": "Elizabeth Barnes",
      "photoUrl": "https://lh3.googleusercontent.com/a-/AOh14GiNPVVIWP6XAkP_hwu-8rAxoeeNuk2BMkX5-yuA=s64",
      "userId": "07585723222468022011"
     },
     "user_tz": 420
    },
    "id": "FVpaL66AVBuW",
    "outputId": "676859bf-ed87-44db-fc7e-d5a84752b7c2"
   },
   "outputs": [
    {
     "name": "stdout",
     "output_type": "stream",
     "text": [
      "training confusion matrix\n",
      "[[2690  599]\n",
      " [ 314 2837]]\n"
     ]
    },
    {
     "data": {
      "text/plain": [
       "Text(0.5, 1.0, 'Training Data')"
      ]
     },
     "execution_count": 29,
     "metadata": {},
     "output_type": "execute_result"
    },
    {
     "data": {
      "image/png": "[encoded data removed]",
      "text/plain": [
       "<Figure size 432x288 with 2 Axes>"
      ]
     },
     "metadata": {
      "needs_background": "light"
     },
     "output_type": "display_data"
    }
   ],
   "source": [
    "from sklearn.metrics import confusion_matrix\n",
    "from sklearn.metrics import ConfusionMatrixDisplay\n",
    "\n",
    "y_pred_train = tree_clf.predict(train_features)\n",
    "print('training confusion matrix')\n",
    "print(confusion_matrix(train_labels, y_pred_train))\n",
    "ConfusionMatrixDisplay.from_predictions(train_labels, y_pred_train,normalize='true')\n",
    "plt.title('Training Data')"
   ]
  },
  {
   "cell_type": "code",
   "execution_count": 30,
   "metadata": {
    "colab": {
     "base_uri": "https://localhost:8080/",
     "height": 384
    },
    "executionInfo": {
     "elapsed": 71,
     "status": "ok",
     "timestamp": 1644863022734,
     "user": {
      "displayName": "Elizabeth Barnes",
      "photoUrl": "https://lh3.googleusercontent.com/a-/AOh14GiNPVVIWP6XAkP_hwu-8rAxoeeNuk2BMkX5-yuA=s64",
      "userId": "07585723222468022011"
     },
     "user_tz": 420
    },
    "id": "7GxbWwwlVBuX",
    "outputId": "6b06a404-83be-430e-ccad-cc22c9b4c9b7"
   },
   "outputs": [
    {
     "name": "stdout",
     "output_type": "stream",
     "text": [
      "validation confusion matrix\n",
      "[[962 167]\n",
      " [ 97 921]]\n"
     ]
    },
    {
     "data": {
      "text/plain": [
       "Text(0.5, 1.0, 'Validation Data')"
      ]
     },
     "execution_count": 30,
     "metadata": {},
     "output_type": "execute_result"
    },
    {
     "data": {
      "image/png": "[encoded data removed]",
      "text/plain": [
       "<Figure size 432x288 with 2 Axes>"
      ]
     },
     "metadata": {
      "needs_background": "light"
     },
     "output_type": "display_data"
    }
   ],
   "source": [
    "y_pred_val = tree_clf.predict(val_features)\n",
    "print('validation confusion matrix')\n",
    "print(confusion_matrix(val_labels, y_pred_val))\n",
    "\n",
    "ConfusionMatrixDisplay.from_predictions(val_labels, y_pred_val,normalize='true')\n",
    "plt.title('Validation Data')"
   ]
  },
  {
   "cell_type": "code",
   "execution_count": 31,
   "metadata": {
    "colab": {
     "base_uri": "https://localhost:8080/"
    },
    "executionInfo": {
     "elapsed": 69,
     "status": "ok",
     "timestamp": 1644863022734,
     "user": {
      "displayName": "Elizabeth Barnes",
      "photoUrl": "https://lh3.googleusercontent.com/a-/AOh14GiNPVVIWP6XAkP_hwu-8rAxoeeNuk2BMkX5-yuA=s64",
      "userId": "07585723222468022011"
     },
     "user_tz": 420
    },
    "id": "soca30RPVBuX",
    "outputId": "9331f09f-d440-4455-f10d-db5cd37e6eaa"
   },
   "outputs": [
    {
     "name": "stdout",
     "output_type": "stream",
     "text": [
      "0.8582298136645963\n",
      "0.8770377270610153\n"
     ]
    }
   ],
   "source": [
    "from sklearn.metrics import accuracy_score\n",
    "\n",
    "print(accuracy_score(train_labels, y_pred_train))\n",
    "print(accuracy_score(val_labels, y_pred_val))"
   ]
  },
  {
   "cell_type": "code",
   "execution_count": 32,
   "metadata": {
    "executionInfo": {
     "elapsed": 67,
     "status": "ok",
     "timestamp": 1644863022734,
     "user": {
      "displayName": "Elizabeth Barnes",
      "photoUrl": "https://lh3.googleusercontent.com/a-/AOh14GiNPVVIWP6XAkP_hwu-8rAxoeeNuk2BMkX5-yuA=s64",
      "userId": "07585723222468022011"
     },
     "user_tz": 420
    },
    "id": "aKgMVklCVBuX"
   },
   "outputs": [
    {
     "name": "stdout",
     "output_type": "stream",
     "text": [
      "0.8256693830034925\n",
      "0.8465073529411765\n"
     ]
    }
   ],
   "source": [
    "from sklearn.metrics import precision_score, recall_score\n",
    "\n",
    "print(precision_score(train_labels, y_pred_train))\n",
    "print(precision_score(val_labels, y_pred_val))"
   ]
  },
  {
   "cell_type": "code",
   "execution_count": 33,
   "metadata": {
    "executionInfo": {
     "elapsed": 527,
     "status": "ok",
     "timestamp": 1644863023195,
     "user": {
      "displayName": "Elizabeth Barnes",
      "photoUrl": "https://lh3.googleusercontent.com/a-/AOh14GiNPVVIWP6XAkP_hwu-8rAxoeeNuk2BMkX5-yuA=s64",
      "userId": "07585723222468022011"
     },
     "user_tz": 420
    },
    "id": "eJMDdz6gVBuX"
   },
   "outputs": [
    {
     "name": "stdout",
     "output_type": "stream",
     "text": [
      "0.9003490955252301\n",
      "0.9047151277013753\n"
     ]
    }
   ],
   "source": [
    "print(recall_score(train_labels, y_pred_train))\n",
    "print(recall_score(val_labels, y_pred_val))"
   ]
  },
  {
   "cell_type": "code",
   "execution_count": 34,
   "metadata": {
    "colab": {
     "base_uri": "https://localhost:8080/"
    },
    "executionInfo": {
     "elapsed": 63,
     "status": "ok",
     "timestamp": 1644863023195,
     "user": {
      "displayName": "Elizabeth Barnes",
      "photoUrl": "https://lh3.googleusercontent.com/a-/AOh14GiNPVVIWP6XAkP_hwu-8rAxoeeNuk2BMkX5-yuA=s64",
      "userId": "07585723222468022011"
     },
     "user_tz": 420
    },
    "id": "QwWU3kG-VBuX",
    "outputId": "57a521e4-1fb3-46d7-e24f-aac5ec473e20"
   },
   "outputs": [
    {
     "name": "stdout",
     "output_type": "stream",
     "text": [
      "Macro F1-Score\n",
      "0.8581559086027979\n",
      "0.8769928696802555\n",
      "\n",
      "Weighted F1-Score\n",
      "0.8580865283407013\n",
      "0.8771143128330445\n"
     ]
    }
   ],
   "source": [
    "from sklearn.metrics import f1_score\n",
    "\n",
    "print('Macro F1-Score')\n",
    "print(f1_score(train_labels, y_pred_train, average='macro'))\n",
    "print(f1_score(val_labels, y_pred_val, average='macro'))\n",
    "\n",
    "print('')\n",
    "\n",
    "print('Weighted F1-Score')\n",
    "print(f1_score(train_labels, y_pred_train, average='weighted'))\n",
    "print(f1_score(val_labels, y_pred_val, average='weighted'))"
   ]
  }
 ],
 "metadata": {
  "colab": {
   "collapsed_sections": [],
   "name": "tree_classifier_christman_hourly_competition.ipynb",
   "provenance": [
    {
     "file_id": "13Xx2bBWJToNi1YEv_q7p67xEwG0J-n8O",
     "timestamp": 1644843366282
    }
   ]
  },
  "kernelspec": {
   "display_name": "Python 3 (ipykernel)",
   "language": "python",
   "name": "python3"
  },
  "language_info": {
   "codemirror_mode": {
    "name": "ipython",
    "version": 3
   },
   "file_extension": ".py",
   "mimetype": "text/x-python",
   "name": "python",
   "nbconvert_exporter": "python",
   "pygments_lexer": "ipython3",
   "version": "3.7.11"
  }
 },
 "nbformat": 4,
 "nbformat_minor": 4
}
